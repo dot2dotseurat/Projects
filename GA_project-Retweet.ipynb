{
 "metadata": {
  "name": "",
  "signature": "sha256:a698b5afdade9c9a6124a0c042c310359e07131c171e7dd97a8b2f14f3e00a96"
 },
 "nbformat": 3,
 "nbformat_minor": 0,
 "worksheets": [
  {
   "cells": [
    {
     "cell_type": "heading",
     "level": 1,
     "metadata": {},
     "source": [
      "Predicting Retweets "
     ]
    },
    {
     "cell_type": "markdown",
     "metadata": {},
     "source": [
      "Two models predicting whether or not a tweet will be retweeted. \n",
      "\n",
      "One based on tweet/user features such as followers, presence of links/hashtags/ @ symbols, etc and the second based on the words used."
     ]
    },
    {
     "cell_type": "heading",
     "level": 2,
     "metadata": {},
     "source": [
      "Let's get authorized to use the public twitter search api"
     ]
    },
    {
     "cell_type": "code",
     "collapsed": false,
     "input": [
      "import twitter\n",
      "import requests\n",
      "\n",
      "import urllib2\n",
      "from urllib2 import urlopen\n",
      "import ssl\n",
      "import json\n",
      "\n",
      "import pandas as pd\n",
      "import numpy as np\n",
      "import matplotlib.pyplot as plt\n",
      "\n",
      "import seaborn as sns\n",
      "from pandas.tools.plotting import scatter_matrix\n",
      "\n",
      "import datetime\n",
      "import time\n",
      "import nltk\n",
      "\n",
      "import textblob\n",
      "from textblob import TextBlob\n",
      "\n",
      "%matplotlib inline\n",
      "ssl._create_default_https_context = ssl._create_unverified_context\n",
      "\n",
      "from sklearn.cross_validation import train_test_split\n",
      "from sklearn.linear_model import LogisticRegression\n",
      "from sklearn.metrics import confusion_matrix, classification_report\n",
      "\n",
      "import nltk\n",
      "from nltk import tokenize\n",
      "\n",
      "\n",
      "from sklearn.decomposition import TruncatedSVD\n",
      "from sklearn.feature_extraction.text import TfidfVectorizer\n",
      "from sklearn.feature_extraction.text import HashingVectorizer\n",
      "from sklearn.feature_extraction.text import TfidfTransformer\n",
      "from sklearn.pipeline import make_pipeline\n",
      "from sklearn.preprocessing import Normalizer\n",
      "from sklearn import metrics\n",
      "\n",
      "import twitter\n",
      "\n",
      "def oauth_login():\n",
      "    # XXX: Go to http://twitter.com/apps/new to create an app and get values\n",
      "    # for these credentials that you'll need to provide in place of these\n",
      "    # empty string values that are defined as placeholders.\n",
      "    # See https://dev.twitter.com/docs/auth/oauth for more information \n",
      "    # on Twitter's OAuth implementation.\n",
      "    \n",
      "    CONSUMER_KEY = 'GmlvB1NnHWqUrqqRV1drSh9yp'\n",
      "    CONSUMER_SECRET ='KTkIanQpamSBrx3k1WxhQ9ZAniTkpld2agGhs5bBSZzvRnnxw7'\n",
      "    OAUTH_TOKEN = '2320348837-TkKfuouJOE0mOM67e2QcYqnRI0hX9215CTyOSEy'\n",
      "    OAUTH_TOKEN_SECRET = 'BWlwedb7yZegcNhbhmJfEOEtX7i6dWSPx4mpQ0OLwL3CZ'\n",
      "    \n",
      "    auth = twitter.oauth.OAuth(OAUTH_TOKEN, OAUTH_TOKEN_SECRET,\n",
      "                               CONSUMER_KEY, CONSUMER_SECRET)\n",
      "    \n",
      "    twitter_api = twitter.Twitter(auth=auth)\n",
      "    return twitter_api\n",
      "\n",
      "# Sample usage\n",
      "twitter_api = oauth_login()    \n"
     ],
     "language": "python",
     "metadata": {},
     "outputs": [],
     "prompt_number": 209
    },
    {
     "cell_type": "heading",
     "level": 2,
     "metadata": {},
     "source": [
      "Now pick a topic to search for. "
     ]
    },
    {
     "cell_type": "code",
     "collapsed": false,
     "input": [
      "count = 3200\n",
      "q='hadoop'\n",
      "current_max='n/a'\n",
      "\n",
      "tweet=[]\n",
      "\n",
      "for i in range(50):\n",
      "    if current_max == 'n/a':\n",
      "        search_results = twitter_api.search.tweets(q=q,  count=count)\n",
      "        statuses = search_results['statuses']\n",
      "        tweet= json.dumps(statuses, indent=1)\n",
      "        tweet = pd.read_json(tweet)\n",
      "\n",
      "        last=len(tweet)-1\n",
      "        current_max=tweet['id'][last] \n",
      "    else:\n",
      "        search_results = twitter_api.search.tweets(q=q,count=count, max_id=current_max)\n",
      "        statuses = search_results['statuses']\n",
      "        tweetjson= json.dumps(statuses, indent=1)\n",
      "        tweetdf = pd.read_json(tweetjson)\n",
      "\n",
      "        tweet=tweet.append(tweetdf)\n",
      "\n",
      "        sftweet=tweet\n",
      "        last=len(tweetdf)-1\n",
      "        if len(tweetdf) == 0:\n",
      "            w=5\n",
      "        else:\n",
      "            current_max=tweetdf['id'][last]"
     ],
     "language": "python",
     "metadata": {},
     "outputs": [],
     "prompt_number": 210
    },
    {
     "cell_type": "code",
     "collapsed": false,
     "input": [
      "# sf_csv=[]\n",
      "    \n",
      "# sftweet=sftweet[['geo','created_at','coordinates','retweet_count','retweeted','text', 'favorited', 'favorite_count','user', 'id']]\n",
      "# sftweet['followers']=sftweet['user'].apply(lambda x: x['followers_count'])\n",
      "# sftweet['user_statuses_count']=sftweet['user'].apply(lambda x: x['statuses_count'])\n",
      "# sftweet['user_favourites_count']= sftweet['user'].apply(lambda x: x['favourites_count'])\n",
      "# sftweet['retweeted?']=sftweet['retweet_count'].apply(lambda x: 1 if x != 0 else 0)\n",
      "# sftweet['favorited?']=sftweet['favorite_count'].apply(lambda x: 1 if x != 0 else 0)\n",
      "# sftweet['user_desc']=sftweet['user'].apply(lambda x: x['description'])\n",
      "# sf_csv=sftweet[['created_at','retweet_count','retweeted?','text', 'favorited?', 'favorite_count',  'user','followers', 'user_statuses_count','user_favourites_count','user_desc' ]]\n",
      "\n",
      "\n",
      "# with open('hadoop_data_022115.csv', 'a') as f:\n",
      "#     sf_csv.to_csv(f, header=True , encoding='utf-8')\n",
      "    \n",
      "sftweet=pd.read_csv('hadoop_data_022115.csv')\n",
      "    \n",
      "    \n",
      "def containsAny(str, set):\n",
      "    \"\"\"Check whether 'str' contains ANY of the chars in 'set'\"\"\"\n",
      "    return 1 in [c in str for c in set]\n",
      "\n",
      "def isitinit(target):\n",
      "    return lambda x: 1 if containsAny(target, x) else 0\n",
      "def sentiment(str):\n",
      "    sentence = TextBlob(str)        \n",
      "    return sentence.sentiment.polarity\n",
      "import re\n",
      "\n",
      "def link(str):\n",
      "    if re.search(\"http\" , str):\n",
      "        return 1\n",
      "    else: \n",
      "        return 0\n",
      "    \n",
      "sftweet.reset_index()\n",
      "feature_cols = [col for col in sftweet.columns if col not in ['retweeted?', 'retweeted', 'favorited', 'retweet_count','favorite_count','favorited?', 'coordinates','geo','user','coor']]\n",
      "x_data=sftweet[feature_cols]\n",
      "y_data=sftweet['retweeted?']\n",
      "\n",
      "x_data=x_data.reset_index()\n",
      "y_data=y_data.reset_index()\n",
      "\n",
      "text_data=sftweet[['retweeted?','text']].reset_index()\n",
      "text_data = text_data[['retweeted?','text']]\n",
      "\n",
      "x_data['hash?']=x_data.text.apply(isitinit('#'))\n",
      "x_data['at?']=x_data.text.apply(isitinit('@'))\n",
      "x_data['question?']=x_data.text.apply(isitinit('?'))\n",
      "x_data['exclamation?']=x_data.text.apply(isitinit('!'))\n",
      "x_data['sentiment']=x_data.text.apply(sentiment)\n",
      "x_data['link?']=x_data.text.apply(link)\n",
      "\n",
      "feature_cols_notext = [col for col in x_data.columns if col not in ['text', 'user_desc','id','created_at','time','index','lat','long']]\n",
      "x=x_data[feature_cols_notext]\n",
      "y=y_data['retweeted?']\n"
     ],
     "language": "python",
     "metadata": {},
     "outputs": []
    },
    {
     "cell_type": "code",
     "collapsed": false,
     "input": [
      "import numpy\n",
      "from matplotlib import pyplot as plt\n",
      "\n",
      "data = x_data.followers\n",
      "\n",
      "bins = range(0, 10)\n",
      "plt.xticks(bins, [\"10^%s\" % i for i in bins])\n",
      "plt.hist(np.log10(x_data.followers), log=True, bins=bins)\n",
      "plt.show()"
     ],
     "language": "python",
     "metadata": {},
     "outputs": [
      {
       "metadata": {},
       "output_type": "display_data",
       "png": "[encoded data removed]",
       "text": [
        "<matplotlib.figure.Figure at 0x12c3d1c90>"
       ]
      }
     ],
     "prompt_number": 212
    },
    {
     "cell_type": "code",
     "collapsed": false,
     "input": [
      "x_data.user_favourites_count.hist(log=True, bins = 50)\n"
     ],
     "language": "python",
     "metadata": {},
     "outputs": [
      {
       "metadata": {},
       "output_type": "pyout",
       "prompt_number": 213,
       "text": [
        "<matplotlib.axes._subplots.AxesSubplot at 0x13219bad0>"
       ]
      },
      {
       "metadata": {},
       "output_type": "display_data",
       "png": "[encoded data removed]",
       "text": [
        "<matplotlib.figure.Figure at 0x12870bc50>"
       ]
      }
     ],
     "prompt_number": 213
    },
    {
     "cell_type": "code",
     "collapsed": false,
     "input": [
      "retweeted.user_favourites_count.hist(log=True, bins = 50)"
     ],
     "language": "python",
     "metadata": {},
     "outputs": [
      {
       "metadata": {},
       "output_type": "pyout",
       "prompt_number": 214,
       "text": [
        "<matplotlib.axes._subplots.AxesSubplot at 0x132136d10>"
       ]
      },
      {
       "metadata": {},
       "output_type": "display_data",
       "png": "[encoded data removed]",
       "text": [
        "<matplotlib.figure.Figure at 0x130722290>"
       ]
      }
     ],
     "prompt_number": 214
    },
    {
     "cell_type": "code",
     "collapsed": false,
     "input": [],
     "language": "python",
     "metadata": {},
     "outputs": [],
     "prompt_number": 214
    },
    {
     "cell_type": "code",
     "collapsed": false,
     "input": [
      "x_data.user_favourites_count.max()"
     ],
     "language": "python",
     "metadata": {},
     "outputs": [
      {
       "metadata": {},
       "output_type": "pyout",
       "prompt_number": 215,
       "text": [
        "158429"
       ]
      }
     ],
     "prompt_number": 215
    },
    {
     "cell_type": "code",
     "collapsed": false,
     "input": [
      "x_data.user_statuses_count.hist(log=True)"
     ],
     "language": "python",
     "metadata": {},
     "outputs": [
      {
       "metadata": {},
       "output_type": "pyout",
       "prompt_number": 216,
       "text": [
        "<matplotlib.axes._subplots.AxesSubplot at 0x10e84ea90>"
       ]
      },
      {
       "metadata": {},
       "output_type": "display_data",
       "png": "[encoded data removed]",
       "text": [
        "<matplotlib.figure.Figure at 0x10f738a10>"
       ]
      }
     ],
     "prompt_number": 216
    },
    {
     "cell_type": "code",
     "collapsed": false,
     "input": [
      "x_data.followers.hist(log=True)"
     ],
     "language": "python",
     "metadata": {},
     "outputs": [
      {
       "metadata": {},
       "output_type": "pyout",
       "prompt_number": 217,
       "text": [
        "<matplotlib.axes._subplots.AxesSubplot at 0x110f07b90>"
       ]
      },
      {
       "metadata": {},
       "output_type": "display_data",
       "png": "[encoded data removed]",
       "text": [
        "<matplotlib.figure.Figure at 0x118f64490>"
       ]
      }
     ],
     "prompt_number": 217
    },
    {
     "cell_type": "code",
     "collapsed": false,
     "input": [
      "print \"What percentage of tweets are directed at other users?\", float(list(x_data['at?']).count(1))/len(x_data),\"%\"\n",
      "print \"What percentage of tweets have hashtags?\", float(list(x_data['hash?']).count(1))/len(x_data),\"%\"\n",
      "print \"What percentage of tweets have links?\", float(list(x_data['link?']).count(1))/len(x_data),\"%\"    \n",
      "avesent=sum(list(x_data['sentiment']))/len(x_data) \n",
      "if avesent > 0.5:\n",
      "    print \"What is the average sentiment of the tweets?\", \"Positive\", avesent\n",
      "elif avesent > 0:\n",
      "    print \"What is the average sentiment of the tweets?\", \"Mildly Positive\", avesent\n",
      "elif avesent > -0.5 and avesent < 0:\n",
      "    print \"What is the average sentiment of the tweets?\", \"Mildly Negative\", avesent\n",
      "else:\n",
      "    print \"What is the average sentiment of the tweets?\", \"Neagtive\", avesent\n",
      "    \n",
      "avefoll=sum(list(x_data['followers']))/len(x_data) \n",
      "medfoll=np.median(list(x_data['followers'])) \n",
      "if avefoll > 0.5:\n",
      "    print \"The average # of followers for users that post retweeted tweets?\", \"On Average More than 1000 or\", avefoll, \"followers\", \"and a median of\", medfoll\n",
      "elif avefoll > 100:\n",
      "    print \"The average # of followers for users that post retweeted tweets?\", \"On Average  than 100\", avefoll, \"followers\", \"and a median of\", medfoll\n",
      "elif avefoll < 100:\n",
      "    print \"The average # of followers for users that post retweeted tweets?\", \"On Average  than 100\", avefoll, \"followers\",  \"and a median of\", medfoll\n",
      "elif avefoll < 10:\n",
      "    print \"The average # of followers for users that post retweeted tweets?\", \"On Average than 10\", avefoll, \"followers\", \"and a median of\", medfoll"
     ],
     "language": "python",
     "metadata": {},
     "outputs": [
      {
       "output_type": "stream",
       "stream": "stdout",
       "text": [
        "What percentage of tweets are directed at other users? 0.6378 %\n",
        "What percentage of tweets have hashtags? 0.603 %\n",
        "What percentage of tweets have links? 0.9284 %\n",
        "What is the average sentiment of the tweets? Mildly Positive 0.100868326535\n",
        "The average # of followers for users that post retweeted tweets? On Average More than 1000 or 3148 followers and a median of 937.0\n"
       ]
      }
     ],
     "prompt_number": 218
    },
    {
     "cell_type": "code",
     "collapsed": false,
     "input": [
      "print \"What percentage of tweets are retweeted\", float(list(y_data['retweeted?']).count(1))/len(y_data),\"%\"\n",
      "\n",
      "data=pd.concat([x_data,y_data], axis=1)\n",
      "retweeted=data[data['retweeted?']==1]\n",
      "\n",
      "print \"What percentage of retweeted tweets are directed at other users?\", float(list(retweeted['at?']).count(1))/len(retweeted),\"%\"\n",
      "print \"What percentage of retweeted tweets have hashtags?\", float(list(retweeted['hash?']).count(1))/len(retweeted),\"%\"\n",
      "print \"What percentage of retweeted tweets have links?\", float(list(retweeted['link?']).count(1))/len(retweeted),\"%\"\n",
      "\n",
      "\n",
      "avesent=sum(list(retweeted['sentiment']))/len(retweeted) \n",
      "if avesent > 0.5:\n",
      "    print \"What is the average sentiment of the retweeted tweets?\", \"Positive\", avesent\n",
      "elif avesent > 0:\n",
      "    print \"What is the average sentiment of the  retweeted tweets?\", \"Mildly Positive\", avesent\n",
      "elif avesent > -0.5 and avesent < 0:\n",
      "    print \"What is the average sentiment of the retweeted tweets?\", \"Mildly Negative\", avesent\n",
      "else:\n",
      "    print \"What is the average sentiment of the retweeted tweets?\", \"Neagtive\", avesent\n",
      "    \n",
      "avefoll=sum(list(retweeted['followers']))/len(retweeted) \n",
      "medfoll=np.median(list(retweeted['followers'])) \n",
      "if avefoll > 0.5:\n",
      "    print \"The average and median # of followers for users that post retweeted tweets?\", \"On Average More than 1000 or\", avefoll, \"followers\", \"and a median of\", medfoll\n",
      "elif avefoll > 100:\n",
      "    print \"The average # of followers for users that post retweeted tweets?\", \"On Average  than 100\", avefoll, \"followers\", \"and a median of\", medfoll\n",
      "elif avefoll < 100:\n",
      "    print \"The average # of followers for users that post retweeted tweets?\", \"On Average  than 100\", avefoll, \"followers\",  \"and a median of\", medfoll\n",
      "elif avefoll < 10:\n",
      "    print \"The average # of followers for users that post retweeted tweets?\", \"On Average than 10\", avefoll, \"followers\", \"and a median of\", medfoll\n",
      "    "
     ],
     "language": "python",
     "metadata": {},
     "outputs": [
      {
       "output_type": "stream",
       "stream": "stdout",
       "text": [
        "What percentage of tweets are retweeted 0.7298 %\n",
        "What percentage of retweeted tweets are directed at other users? 0.81693614689 %\n",
        "What percentage of retweeted tweets have hashtags? 0.682652781584 %\n",
        "What percentage of retweeted tweets have links? 0.953137845985 %\n",
        "What is the average sentiment of the  retweeted tweets? Mildly Positive 0.112660759622\n",
        "The average and median # of followers for users that post retweeted tweets? On Average More than 1000 or 3529 followers and a median of 1302.0\n"
       ]
      }
     ],
     "prompt_number": 219
    },
    {
     "cell_type": "code",
     "collapsed": false,
     "input": [
      "data=pd.concat([x_data,y_data], axis=1)\n",
      "retweeted=data[data['retweeted?']==0]\n",
      "\n",
      "print \"What percentage of NON retweeted tweets are directed at other users?\", float(list(retweeted['at?']).count(1))/len(retweeted),\"%\"\n",
      "print \"What percentage of NON retweeted tweets have hashtags?\", float(list(retweeted['hash?']).count(1))/len(retweeted),\"%\"\n",
      "print \"What percentage of NON retweeted tweets have links?\", float(list(retweeted['link?']).count(1))/len(retweeted),\"%\"\n",
      "\n",
      "\n",
      "avesent=sum(list(retweeted['sentiment']))/len(retweeted) \n",
      "if avesent > 0.5:\n",
      "    print \"What is the average sentiment of the NON retweeted tweets?\", \"Positive\", avesent\n",
      "elif avesent > 0:\n",
      "    print \"What is the average sentiment of the  NON retweeted tweets?\", \"Mildly Positive\", avesent\n",
      "elif avesent > -0.5 and avesent < 0:\n",
      "    print \"What is the average sentiment of the NON retweeted tweets?\", \"Mildly Negative\", avesent\n",
      "else:\n",
      "    print \"What is the average sentiment of the NON retweeted tweets?\", \"Neagtive\", avesent\n",
      "    \n",
      "avefoll=sum(list(retweeted['followers']))/len(retweeted) \n",
      "medfoll=np.median(list(retweeted['followers'])) \n",
      "if avefoll > 0.5:\n",
      "    print \"The average and median # of followers for users that post NON retweeted tweets?\", \"On Average More than 1000 or\", avefoll, \"followers\", \"and a median of\", medfoll\n",
      "elif avefoll > 100:\n",
      "    print \"The average # of followers for users that post NON retweeted tweets?\", \"On Average  than 100\", avefoll, \"followers\", \"and a median of\", medfoll\n",
      "elif avefoll < 100:\n",
      "    print \"The average # of followers for users that post NON retweeted tweets?\", \"On Average  than 100\", avefoll, \"followers\",  \"and a median of\", medfoll\n",
      "elif avefoll < 10:\n",
      "    print \"The average # of followers for users that post NON retweeted tweets?\", \"On Average than 10\", avefoll, \"followers\", \"and a median of\", medfoll\n",
      "    "
     ],
     "language": "python",
     "metadata": {},
     "outputs": [
      {
       "output_type": "stream",
       "stream": "stdout",
       "text": [
        "What percentage of NON retweeted tweets are directed at other users? 0.153960029608 %\n",
        "What percentage of NON retweeted tweets have hashtags? 0.387860843819 %\n",
        "What percentage of NON retweeted tweets have links? 0.861584011843 %\n",
        "What is the average sentiment of the  NON retweeted tweets? Mildly Positive 0.0690174099278\n",
        "The average and median # of followers for users that post NON retweeted tweets? On Average More than 1000 or 2119 followers and a median of 394.0\n"
       ]
      }
     ],
     "prompt_number": 220
    },
    {
     "cell_type": "code",
     "collapsed": false,
     "input": [],
     "language": "python",
     "metadata": {},
     "outputs": [],
     "prompt_number": 220
    },
    {
     "cell_type": "markdown",
     "metadata": {},
     "source": [
      "**From that data, we will extract for the first model the following features:**\n",
      "\n",
      "Features to help determine user's twitter **engagement**\n",
      "* Number of followers\n",
      "* Total number of statuses tweeted\n",
      "* Total number of tweets favorites\n",
      "\n",
      "Features to help classify the depth and **context** of the tweet\n",
      "* Presecence of a link\n",
      "* Presecence of a hashtag\n",
      "* Presence of a \"at\" symbol indicating the tweet was directed at another user\n",
      "* Presence of a question mark\n",
      "* Presence of an exclamation mark\n",
      "* Sentiment of the tweet\n",
      "\n",
      "\n",
      "Engagement features are extracted directly from the json from the twitter search api.\n",
      "\n",
      "Contect features were extracted with simple functions I wrote to detect the presence of a short string or symbol.\n",
      "\n",
      "Sentiment was calculated using TextBlob, a natural language processing library found here:\n",
      "http://textblob.readthedocs.org/en/dev/\n"
     ]
    },
    {
     "cell_type": "markdown",
     "metadata": {},
     "source": [
      "**Now let's run through a couple models and see which features are most informative**"
     ]
    },
    {
     "cell_type": "code",
     "collapsed": false,
     "input": [
      "def plot_confusion_matrix(y_pred, y):\n",
      "    plt.imshow(metrics.confusion_matrix(y, y_pred),\n",
      "               cmap=plt.cm.binary, interpolation='nearest')\n",
      "    plt.colorbar()\n",
      "    plt.xlabel('true value')\n",
      "    plt.ylabel('predicted value')"
     ],
     "language": "python",
     "metadata": {},
     "outputs": [],
     "prompt_number": 221
    },
    {
     "cell_type": "code",
     "collapsed": false,
     "input": [
      "    \n",
      "from sklearn import metrics\n",
      "from sklearn.cross_validation import train_test_split\n",
      "\n",
      "    \n",
      "X_train, X_test, y_train, y_test = train_test_split(x, y)\n",
      "\n",
      "from sklearn.linear_model import LogisticRegression\n",
      "from sklearn.grid_search import GridSearchCV\n",
      "\n",
      "param={'C':np.logspace(-3,3,10) ,'penalty':['l1','l2']}\n",
      "clf = GridSearchCV(LogisticRegression(),param)\n",
      "clf.fit(X_train, y_train)\n",
      "clf.score(X_test, y_test)\n",
      "y_pred = clf.predict(X_test)\n",
      "print \"classification accuracy:\", metrics.accuracy_score(y_test, y_pred)\n",
      "plot_confusion_matrix(y_test, y_pred)\n",
      "\n",
      "print metrics.classification_report(y_test, y_pred)\n",
      "sns.regplot(y_pred, y_test, x_jitter=0.1, y_jitter=0.1)\n"
     ],
     "language": "python",
     "metadata": {},
     "outputs": [
      {
       "output_type": "stream",
       "stream": "stdout",
       "text": [
        "classification accuracy: 0.8376\n",
        "             precision    recall  f1-score   support\n",
        "\n",
        "          0       0.68      0.76      0.72       337\n",
        "          1       0.91      0.87      0.89       913\n",
        "\n",
        "avg / total       0.84      0.84      0.84      1250\n"
       ]
      },
      {
       "output_type": "stream",
       "stream": "stdout",
       "text": [
        "\n"
       ]
      },
      {
       "metadata": {},
       "output_type": "pyout",
       "prompt_number": 222,
       "text": [
        "<matplotlib.axes._subplots.AxesSubplot at 0x113ece650>"
       ]
      },
      {
       "metadata": {},
       "output_type": "display_data",
       "png": "[encoded data removed]",
       "text": [
        "<matplotlib.figure.Figure at 0x1276d1610>"
       ]
      }
     ],
     "prompt_number": 222
    },
    {
     "cell_type": "code",
     "collapsed": false,
     "input": [
      "from sklearn.naive_bayes import GaussianNB\n",
      "from sklearn.cross_validation import train_test_split\n",
      "\n",
      "\n",
      "sk_clf = GaussianNB()\n",
      "sk_clf.fit(X_train, y_train)\n",
      "sk_clf.score(X_test, y_test)\n",
      "\n",
      "clf.score(X_test, y_test)\n",
      "y_pred = clf.predict(X_test)\n",
      "print \"classification accuracy:\", metrics.accuracy_score(y_test, y_pred)\n",
      "plot_confusion_matrix(y_test, y_pred)\n",
      "\n",
      "print metrics.classification_report(y_test, y_pred)\n",
      "sns.regplot(y_pred, y_test, x_jitter=0.1, y_jitter=0.1)\n",
      "\n"
     ],
     "language": "python",
     "metadata": {},
     "outputs": [
      {
       "output_type": "stream",
       "stream": "stdout",
       "text": [
        "classification accuracy: 0.8376\n",
        "             precision    recall  f1-score   support\n",
        "\n",
        "          0       0.68      0.76      0.72       337\n",
        "          1       0.91      0.87      0.89       913\n",
        "\n",
        "avg / total       0.84      0.84      0.84      1250\n"
       ]
      },
      {
       "output_type": "stream",
       "stream": "stdout",
       "text": [
        "\n"
       ]
      },
      {
       "metadata": {},
       "output_type": "pyout",
       "prompt_number": 223,
       "text": [
        "<matplotlib.axes._subplots.AxesSubplot at 0x126fd8850>"
       ]
      },
      {
       "metadata": {},
       "output_type": "display_data",
       "png": "[encoded data removed]",
       "text": [
        "<matplotlib.figure.Figure at 0x124b0dc10>"
       ]
      }
     ],
     "prompt_number": 223
    },
    {
     "cell_type": "code",
     "collapsed": false,
     "input": [
      "%time\n",
      "from sklearn.neighbors import KNeighborsClassifier\n",
      "\n",
      "\n",
      "# Instantiate the estimator\n",
      "clf = KNeighborsClassifier()\n",
      "clf.fit(X_train,y_train)\n",
      "# Fit the estimator to the Training Data\n",
      "\n",
      "# Use the model to predict Test Data\n",
      "y_pred = clf.predict(X_test)\n",
      "print \"classification accuracy:\", metrics.accuracy_score(y_test, y_pred)\n",
      "plot_confusion_matrix(y_test, y_pred)\n",
      "\n",
      "print metrics.classification_report(y_test, y_pred)\n",
      "sns.regplot(y_pred, y_test, x_jitter=0.1, y_jitter=0.1)\n",
      "\n"
     ],
     "language": "python",
     "metadata": {},
     "outputs": [
      {
       "output_type": "stream",
       "stream": "stdout",
       "text": [
        "CPU times: user 4 \u00b5s, sys: 8 \u00b5s, total: 12 \u00b5s\n",
        "Wall time: 14.1 \u00b5s\n",
        "classification accuracy: 0.8128\n",
        "             precision    recall  f1-score   support\n",
        "\n",
        "          0       0.69      0.55      0.61       337\n",
        "          1       0.84      0.91      0.88       913\n",
        "\n",
        "avg / total       0.80      0.81      0.81      1250\n"
       ]
      },
      {
       "output_type": "stream",
       "stream": "stdout",
       "text": [
        "\n"
       ]
      },
      {
       "metadata": {},
       "output_type": "pyout",
       "prompt_number": 224,
       "text": [
        "<matplotlib.axes._subplots.AxesSubplot at 0x112701dd0>"
       ]
      },
      {
       "metadata": {},
       "output_type": "display_data",
       "png": "[encoded data removed]",
       "text": [
        "<matplotlib.figure.Figure at 0x110f07f90>"
       ]
      }
     ],
     "prompt_number": 224
    },
    {
     "cell_type": "code",
     "collapsed": false,
     "input": [
      "%time\n",
      "from sklearn.svm import SVC\n",
      "\n",
      "\n",
      "# Instantiate the estimator\n",
      "clf = SVC()\n",
      "clf.fit(X_train,y_train)\n",
      "# Fit the estimator to the Training Data\n",
      "\n",
      "# Use the model to predict Test Data\n",
      "y_pred = clf.predict(X_test)\n",
      "\n",
      "\n",
      "    \n",
      "print \"classification accuracy:\", metrics.accuracy_score(y_test, y_pred)\n",
      "plot_confusion_matrix(y_test, y_pred)\n",
      "\n",
      "print metrics.classification_report(y_test, y_pred)\n",
      "# Take a look at Predicted vs True Values\n",
      "sns.regplot(y_pred, y_test, x_jitter=0.1, y_jitter=0.1)\n",
      "\n"
     ],
     "language": "python",
     "metadata": {},
     "outputs": [
      {
       "output_type": "stream",
       "stream": "stdout",
       "text": [
        "CPU times: user 4 \u00b5s, sys: 1e+03 ns, total: 5 \u00b5s\n",
        "Wall time: 8.82 \u00b5s\n",
        "classification accuracy:"
       ]
      },
      {
       "output_type": "stream",
       "stream": "stdout",
       "text": [
        " 0.8256\n",
        "             precision    recall  f1-score   support\n",
        "\n",
        "          0       0.84      0.44      0.57       337\n",
        "          1       0.82      0.97      0.89       913\n",
        "\n",
        "avg / total       0.83      0.83      0.81      1250\n"
       ]
      },
      {
       "output_type": "stream",
       "stream": "stdout",
       "text": [
        "\n"
       ]
      },
      {
       "metadata": {},
       "output_type": "pyout",
       "prompt_number": 225,
       "text": [
        "<matplotlib.axes._subplots.AxesSubplot at 0x12fa3b950>"
       ]
      },
      {
       "metadata": {},
       "output_type": "display_data",
       "png": "[encoded data removed]",
       "text": [
        "<matplotlib.figure.Figure at 0x115e83310>"
       ]
      }
     ],
     "prompt_number": 225
    },
    {
     "cell_type": "code",
     "collapsed": false,
     "input": [
      "%time\n",
      "from sklearn.svm import LinearSVC\n",
      "\n",
      "\n",
      "# Instantiate the estimator\n",
      "clf = LinearSVC()\n",
      "clf.fit(X_train,y_train)\n",
      "# Fit the estimator to the Training Data\n",
      "\n",
      "# Use the model to predict Test Data\n",
      "y_pred = clf.predict(X_test)\n",
      "\n",
      "\n",
      "    \n",
      "print \"classification accuracy:\", metrics.accuracy_score(y_test, y_pred)\n",
      "plot_confusion_matrix(y_test, y_pred)\n",
      "\n",
      "print metrics.classification_report(y_test, y_pred)\n",
      "# Take a look at Predicted vs True Values\n",
      "sns.regplot(y_pred, y_test, x_jitter=0.1, y_jitter=0.1)\n",
      "\n",
      "print pd.DataFrame(zip(x.columns, np.transpose(clf.coef_)))"
     ],
     "language": "python",
     "metadata": {},
     "outputs": [
      {
       "output_type": "stream",
       "stream": "stdout",
       "text": [
        "CPU times: user 2 \u00b5s, sys: 2 \u00b5s, total: 4 \u00b5s\n",
        "Wall time: 6.91 \u00b5s\n",
        "classification accuracy:"
       ]
      },
      {
       "output_type": "stream",
       "stream": "stdout",
       "text": [
        " 0.652\n",
        "             precision    recall  f1-score   support\n",
        "\n",
        "          0       0.38      0.46      0.42       337\n",
        "          1       0.78      0.72      0.75       913\n",
        "\n",
        "avg / total       0.67      0.65      0.66      1250\n"
       ]
      },
      {
       "output_type": "stream",
       "stream": "stdout",
       "text": [
        "\n",
        "                       0                     1\n",
        "0              followers    [0.00124702151574]\n",
        "1    user_statuses_count  [-1.72972378306e-05]\n",
        "2  user_favourites_count  [-0.000663598929727]\n",
        "3                  hash?      [0.393808600243]\n",
        "4                    at?      [0.559967455372]\n",
        "5              question?    [-0.0725056425774]\n",
        "6           exclamation?      [0.284224963582]\n",
        "7              sentiment      [0.321440779692]\n",
        "8                  link?       [0.65189750541]"
       ]
      },
      {
       "output_type": "stream",
       "stream": "stdout",
       "text": [
        "\n"
       ]
      },
      {
       "metadata": {},
       "output_type": "display_data",
       "png": "[encoded data removed]",
       "text": [
        "<matplotlib.figure.Figure at 0x12e9c3610>"
       ]
      }
     ],
     "prompt_number": 226
    },
    {
     "cell_type": "markdown",
     "metadata": {},
     "source": [
      "**Let's see if we reduce our model to the fewer but more informative features if the model will return better results**\n",
      "\n",
      "I'm not so sure about the accuracy of the sentiment model so let's try it without that"
     ]
    },
    {
     "cell_type": "code",
     "collapsed": false,
     "input": [
      "x_data['hash?']=x_data.text.apply(isitinit('#'))\n",
      "x_data['at?']=x_data.text.apply(isitinit('@'))\n",
      "x_data['question?']=x_data.text.apply(isitinit('?'))\n",
      "x_data['exclamation?']=x_data.text.apply(isitinit('!'))\n",
      "x_data['sentiment']=x_data.text.apply(sentiment)\n",
      "x_data['link?']=x_data.text.apply(link)\n",
      "x_data['time']=x_data['created_at'].apply(lambda x: np.datetime64(x))\n",
      "\n",
      "feature_cols_reduced = [col for col in x_data.columns if col not in ['text', 'user_desc','id','created_at','time','index','lat','long','sentiment']]\n",
      "x_reduce=x_data[feature_cols_reduced]\n",
      "y=y_data['retweeted?']\n",
      "\n",
      "\n",
      "X_train, X_test, y_train, y_test = train_test_split(x_reduce, y)\n",
      "\n",
      "\n",
      "from sklearn.svm import LinearSVC\n",
      "\n",
      "\n",
      "# Instantiate the estimator\n",
      "clf = LinearSVC()\n",
      "clf.fit(X_train,y_train)\n",
      "# Fit the estimator to the Training Data\n",
      "\n",
      "# Use the model to predict Test Data\n",
      "y_pred = clf.predict(X_test)\n",
      "\n",
      "\n",
      "    \n",
      "print \"classification accuracy:\", metrics.accuracy_score(y_test, y_pred)\n",
      "plot_confusion_matrix(y_test, y_pred)\n",
      "\n",
      "print metrics.classification_report(y_test, y_pred)\n",
      "# Take a look at Predicted vs True Values\n",
      "sns.regplot(y_pred, y_test, x_jitter=0.1, y_jitter=0.1)\n",
      "\n",
      "print pd.DataFrame(zip(x_reduce.columns, np.transpose(clf.coef_)))"
     ],
     "language": "python",
     "metadata": {},
     "outputs": [
      {
       "output_type": "stream",
       "stream": "stdout",
       "text": [
        "classification accuracy: 0.552\n",
        "             precision    recall  f1-score   support\n",
        "\n",
        "          0       0.35      0.88      0.50       320\n",
        "          1       0.92      0.44      0.59       930\n",
        "\n",
        "avg / total       0.77      0.55      0.57      1250\n"
       ]
      },
      {
       "output_type": "stream",
       "stream": "stdout",
       "text": [
        "\n",
        "                       0                     1\n",
        "0              followers   [-0.00221477956121]\n",
        "1    user_statuses_count  [-8.37761122973e-05]\n",
        "2  user_favourites_count    [0.00275457609955]\n",
        "3                  hash?      [0.259667058715]\n",
        "4                    at?       [0.59324939701]\n",
        "5              question?    [-0.0736774430836]\n",
        "6           exclamation?      [0.370764926034]\n",
        "7                  link?      [0.654616036266]"
       ]
      },
      {
       "output_type": "stream",
       "stream": "stdout",
       "text": [
        "\n"
       ]
      },
      {
       "metadata": {},
       "output_type": "display_data",
       "png": "[encoded data removed]",
       "text": [
        "<matplotlib.figure.Figure at 0x12e9c3950>"
       ]
      }
     ],
     "prompt_number": 227
    },
    {
     "cell_type": "markdown",
     "metadata": {},
     "source": [
      "\n",
      "\n",
      "\n",
      "\n",
      "**And now let's try it with only the most important features**"
     ]
    },
    {
     "cell_type": "code",
     "collapsed": false,
     "input": [
      "x_data['hash?']=x_data.text.apply(isitinit('#'))\n",
      "x_data['at?']=x_data.text.apply(isitinit('@'))\n",
      "x_data['question?']=x_data.text.apply(isitinit('?'))\n",
      "x_data['exclamation?']=x_data.text.apply(isitinit('!'))\n",
      "x_data['sentiment']=x_data.text.apply(sentiment)\n",
      "x_data['link?']=x_data.text.apply(link)\n",
      "x_data['time']=x_data['created_at'].apply(lambda x: np.datetime64(x))\n",
      "\n",
      "feature_cols_reduced = [col for col in x_data.columns if col not in ['text', 'user_desc','id','created_at','time','index','lat','long','followers','user_statuses_count', 'user_favourites_count']]\n",
      "x_reduce=x_data[feature_cols_reduced]\n",
      "y=y_data['retweeted?']\n",
      "\n",
      "\n",
      "X_train, X_test, y_train, y_test = train_test_split(x_reduce, y)\n",
      "\n",
      "\n",
      "from sklearn.svm import LinearSVC\n",
      "\n",
      "\n",
      "# Instantiate the estimator\n",
      "clf = LinearSVC()\n",
      "clf.fit(X_train,y_train)\n",
      "# Fit the estimator to the Training Data\n",
      "\n",
      "# Use the model to predict Test Data\n",
      "y_pred = clf.predict(X_test)\n",
      "\n",
      "\n",
      "    \n",
      "print \"classification accuracy:\", metrics.accuracy_score(y_test, y_pred)\n",
      "plot_confusion_matrix(y_test, y_pred)\n",
      "\n",
      "print metrics.classification_report(y_test, y_pred)\n",
      "# Take a look at Predicted vs True Values\n",
      "sns.regplot(y_pred, y_test, x_jitter=0.1, y_jitter=0.1)\n",
      "\n",
      "print pd.DataFrame(zip(x_reduce.columns, np.transpose(clf.coef_)))"
     ],
     "language": "python",
     "metadata": {},
     "outputs": [
      {
       "output_type": "stream",
       "stream": "stdout",
       "text": [
        "classification accuracy: 0.8432\n",
        "             precision    recall  f1-score   support\n",
        "\n",
        "          0       0.65      0.85      0.74       327\n",
        "          1       0.94      0.84      0.89       923\n",
        "\n",
        "avg / total       0.87      0.84      0.85      1250\n"
       ]
      },
      {
       "output_type": "stream",
       "stream": "stdout",
       "text": [
        "\n",
        "              0                  1\n",
        "0         hash?   [0.237474069908]\n",
        "1           at?    [1.06413482608]\n",
        "2     question?   [0.160588514784]\n",
        "3  exclamation?  [0.0981940794474]\n",
        "4     sentiment   [0.147733202288]\n",
        "5         link?   [0.430492640425]"
       ]
      },
      {
       "output_type": "stream",
       "stream": "stdout",
       "text": [
        "\n"
       ]
      },
      {
       "metadata": {},
       "output_type": "display_data",
       "png": "[encoded data removed]",
       "text": [
        "<matplotlib.figure.Figure at 0x132eb8210>"
       ]
      }
     ],
     "prompt_number": 228
    },
    {
     "cell_type": "heading",
     "level": 1,
     "metadata": {},
     "source": [
      "Now on to the natural language processing model"
     ]
    },
    {
     "cell_type": "markdown",
     "metadata": {},
     "source": [
      "**First let's tokenize, remove stop word and search terms, and stem the words**"
     ]
    },
    {
     "cell_type": "code",
     "collapsed": false,
     "input": [
      "token=[]\n",
      "for i in range(len(text_data)):\n",
      "    tokens=([word for word in tokenize.word_tokenize(text_data.text[i])])\n",
      "    token.append(tokens)\n",
      "\n",
      "wordlist = [val for sublist in token for val in sublist]\n",
      "\n",
      "import re\n",
      "from nltk import stem\n",
      "stemmer = stem.SnowballStemmer('english')\n",
      "clean_tokens = [token for token in wordlist if re.search(r'^[a-zA-Z]+', token)]\n",
      "stopwords = nltk.corpus.stopwords.words('english')\n",
      "lemmatizer = stem.WordNetLemmatizer()\n",
      "stemmed_tokens = [lemmatizer.lemmatize(t) for t in clean_tokens]\n",
      "stemmed_stops = [stemmer.stem(t) for t in stopwords]\n",
      "stemmed_tokens_no_stop = [stemmer.stem(t) for t in stemmed_tokens if stemmer.stem(t) not in stopwords and stemmer.stem(t) not in ['bieber\\u200b',\"n't\",'http',q,'bieber', 'justin', 'rt', 'RT']]\n",
      "\n",
      " "
     ],
     "language": "python",
     "metadata": {},
     "outputs": [],
     "prompt_number": 229
    },
    {
     "cell_type": "markdown",
     "metadata": {},
     "source": [
      "**And of those words what are the most common?**"
     ]
    },
    {
     "cell_type": "code",
     "collapsed": false,
     "input": [
      "from collections import Counter\n",
      "c = Counter(stemmed_tokens_no_stop)\n",
      "c.most_common(25) "
     ],
     "language": "python",
     "metadata": {},
     "outputs": [
      {
       "metadata": {},
       "output_type": "pyout",
       "prompt_number": 230,
       "text": [
        "[(u'data', 1511),\n",
        " (u'bigdata', 1157),\n",
        " (u'big', 677),\n",
        " (u'spark', 522),\n",
        " (u'firm', 503),\n",
        " (u'startup', 476),\n",
        " (u'job', 433),\n",
        " (u'success', 426),\n",
        " (u'check', 420),\n",
        " (u'amp', 412),\n",
        " (u'vc', 408),\n",
        " (u'reli', 398),\n",
        " (u'analyt', 383),\n",
        " (u'via', 310),\n",
        " (u'hortonwork', 258),\n",
        " (u'use', 256),\n",
        " (u'open', 245),\n",
        " (u'strata', 244),\n",
        " (u'mapreduc', 242),\n",
        " (u'mongodb', 240),\n",
        " (u'datasci', 240),\n",
        " (u'stratahadoop', 236),\n",
        " (u'pivot', 218),\n",
        " (u'new', 202),\n",
        " (u'world', 189)]"
       ]
      }
     ],
     "prompt_number": 230
    },
    {
     "cell_type": "markdown",
     "metadata": {},
     "source": [
      "**And the distribution of words seems about right?**"
     ]
    },
    {
     "cell_type": "code",
     "collapsed": false,
     "input": [
      "def zipf_plot(text):\n",
      "    '''Creates a log-log plot of word frequency vs word rank.\n",
      "    \"a function to process a large text and plot word frequency against word rank using pylab.plot\"\n",
      "\n",
      "    Precondition: 'text' contains a list of words.\n",
      "    '''\n",
      "    fdist = nltk.FreqDist(text)\n",
      "    \n",
      "    # figured out pylab.plot syntax, sadly, from random googling\n",
      "    plt.plot(\n",
      "            range(1, fdist.B() + 1),      # x-axis: word rank\n",
      "            fdist.values()                # y-axis: word count\n",
      "            )   \n",
      "    plt.xscale('log')\n",
      "    plt.yscale('log')\n",
      "    \n",
      "nltk.FreqDist(stemmed_tokens_no_stop)\n",
      "zipf_plot(stemmed_tokens_no_stop)"
     ],
     "language": "python",
     "metadata": {},
     "outputs": [
      {
       "metadata": {},
       "output_type": "display_data",
       "png": "[encoded data removed]",
       "text": [
        "<matplotlib.figure.Figure at 0x130a8f210>"
       ]
      }
     ],
     "prompt_number": 231
    },
    {
     "cell_type": "markdown",
     "metadata": {},
     "source": [
      "**Before we get into the model what's the cumulative frequency of the most common words?**"
     ]
    },
    {
     "cell_type": "code",
     "collapsed": false,
     "input": [
      "fs = nltk.FreqDist(stemmed_tokens_no_stop)\n",
      "fs.plot(20,cumulative=False)\n"
     ],
     "language": "python",
     "metadata": {},
     "outputs": [
      {
       "metadata": {},
       "output_type": "display_data",
       "png": "[encoded data removed]",
       "text": [
        "<matplotlib.figure.Figure at 0x1304d0c50>"
       ]
      }
     ],
     "prompt_number": 232
    },
    {
     "cell_type": "markdown",
     "metadata": {},
     "source": [
      "**And for bigrams?**"
     ]
    },
    {
     "cell_type": "code",
     "collapsed": false,
     "input": [
      "fulltext = \" \".join(sftweet.text)\n",
      "bigrams=nltk.bigrams(stemmed_tokens_no_stop) \n",
      "\n",
      "fs = nltk.FreqDist(bigrams)\n",
      "fs.plot(20,cumulative=False)"
     ],
     "language": "python",
     "metadata": {},
     "outputs": [
      {
       "metadata": {},
       "output_type": "display_data",
       "png": "[encoded data removed]",
       "text": [
        "<matplotlib.figure.Figure at 0x115d9fb50>"
       ]
      }
     ],
     "prompt_number": 233
    },
    {
     "cell_type": "markdown",
     "metadata": {},
     "source": [
      "**and trigrams?**"
     ]
    },
    {
     "cell_type": "code",
     "collapsed": false,
     "input": [
      "fulltext = \" \".join(sftweet.text)\n",
      "trigrams=nltk.trigrams(stemmed_tokens_no_stop) \n",
      "\n",
      "fs = nltk.FreqDist(trigrams)\n",
      "fs.plot(20,cumulative=False)"
     ],
     "language": "python",
     "metadata": {},
     "outputs": [
      {
       "metadata": {},
       "output_type": "display_data",
       "png": "[encoded data removed]",
       "text": [
        "<matplotlib.figure.Figure at 0x12eb53b10>"
       ]
      }
     ],
     "prompt_number": 234
    },
    {
     "cell_type": "markdown",
     "metadata": {},
     "source": [
      "**Now we have a better idea of what's in these tweets but what words and phrases are more likely to get you retweeted?**\n",
      "\n",
      "Let's try a Naive Bayes model with just unigrams"
     ]
    },
    {
     "cell_type": "code",
     "collapsed": false,
     "input": [
      "def tweet_review(mail_type, text):\n",
      "    stemmer=stem.PorterStemmer()\n",
      "    stopwords=nltk.corpus.stopwords.words('english')\n",
      "    \n",
      "    words=tokenize.word_tokenize(text)\n",
      "    word= [token for token in words if re.search(r'^[a-zA-Z]+', token)]\n",
      "    \n",
      "    stem_words = [stemmer.stem(word) for word in words if word not in stopwords and word not in ['http',q, 'rt', 'RT']]\n",
      "    return (stem_words, mail_type)\n",
      "\n",
      "documents = []\n",
      "\n",
      "for cat, review in text_data.values:\n",
      "#     review = unicode(review, 'utf8')\n",
      "    review.encode('utf8','ignore')\n",
      "    documents.append(tweet_review(cat, review))\n",
      "    \n",
      "    \n",
      "def document_features(document_words): # [_document-classify-extractor]\n",
      "    features = {}\n",
      "    for word in document_words:\n",
      "        features[word] = True\n",
      "    return features\n",
      "\n",
      "\n",
      "featuresets= [(document_features(d), c) for (d,c) in documents]\n",
      "\n",
      "import random\n",
      "# Shuffle the data before doing the training\n",
      "random.shuffle(featuresets)\n",
      "\n",
      "train_set, test_set = featuresets[:1000], featuresets[3000:]\n",
      "\n",
      "# Build the NaiveBayes Classifier\n",
      "classifier = nltk.NaiveBayesClassifier.train(train_set)\n",
      "\n",
      "\n",
      "labels_test=[]\n",
      "for i in range(len(test_set)):\n",
      "    labels_test.append(test_set[i][1])\n",
      "\n",
      "labels_model=[]\n",
      "for i in range(len(test_set)):\n",
      "    labels_model.append(classifier.classify(test_set[1][0]))\n",
      "\n",
      "\n",
      "print nltk.classify.accuracy(classifier, test_set) \n",
      "print metrics.classification_report(labels_test, labels_model)\n",
      "classifier.show_most_informative_features(20)\n",
      "\n",
      "\n",
      "\n"
     ],
     "language": "python",
     "metadata": {},
     "outputs": [
      {
       "output_type": "stream",
       "stream": "stdout",
       "text": [
        "0.822\n",
        "             precision    recall  f1-score   support\n",
        "\n",
        "          0       0.00      0.00      0.00       533\n",
        "          1       0.73      1.00      0.85      1467\n",
        "\n",
        "avg / total       0.54      0.73      0.62      2000\n",
        "\n",
        "Most Informative Features\n",
        "                  System = True                0 : 1      =     44.1 : 1.0"
       ]
      },
      {
       "output_type": "stream",
       "stream": "stdout",
       "text": [
        "\n",
        "                     HDF = True                0 : 1      =     17.1 : 1.0\n",
        "                   capit = True                0 : 1      =     15.0 : 1.0\n",
        "                    view = True                0 : 1      =     14.7 : 1.0\n",
        "                    full = True                0 : 1      =     14.7 : 1.0\n",
        "             JerthroData = True                0 : 1      =     13.0 : 1.0\n",
        "       //t.co/YI7HsoN7K9 = True                0 : 1      =     11.2 : 1.0\n",
        "                 differ\u2026 = True                0 : 1      =     11.2 : 1.0\n",
        "                    Area = True                0 : 1      =     11.2 : 1.0\n",
        "                     Bay = True                0 : 1      =     11.2 : 1.0\n",
        "       //t.co/MujBtuX4H6 = True                0 : 1      =     11.2 : 1.0\n",
        "                      c\u2026 = True                0 : 1      =      9.5 : 1.0\n",
        "                    Join = True                0 : 1      =      9.5 : 1.0\n",
        "                Warehous = True                0 : 1      =      8.8 : 1.0\n",
        "                    love = True                0 : 1      =      8.8 : 1.0\n",
        "                     job = True                0 : 1      =      8.5 : 1.0\n",
        "                    user = True                0 : 1      =      8.2 : 1.0\n",
        "                    iter = True                0 : 1      =      7.8 : 1.0\n",
        "                  Confer = True                0 : 1      =      7.8 : 1.0\n",
        "                WANDisco = True                0 : 1      =      7.8 : 1.0\n"
       ]
      }
     ],
     "prompt_number": 235
    },
    {
     "cell_type": "markdown",
     "metadata": {},
     "source": [
      "**Now what about bigrams? Will that give us a better picture of the contect and sentiment of the text that allowed it be be retweeted?**"
     ]
    },
    {
     "cell_type": "code",
     "collapsed": false,
     "input": [
      "def tweet_review_bi(mail_type, text):\n",
      "    stemmer=stem.PorterStemmer()\n",
      "    stopwords=nltk.corpus.stopwords.words('english')\n",
      "    \n",
      "    words=tokenize.word_tokenize(text)\n",
      "    word= [token for token in words if re.search(r'^[a-zA-Z]+', token)]\n",
      "    \n",
      "    stem_words = [stemmer.stem(word) for word in words if word not in stopwords and word not in ['Hadoop','http',q, 'rt', 'RT', 'u',',','-',':','#','@']]\n",
      "    bigrams=nltk.bigrams(stem_words) \n",
      "    return (bigrams, mail_type)\n",
      "\n",
      "documents = []\n",
      "\n",
      "for cat, review in text_data.values:\n",
      "#     review = unicode(review, 'utf8')\n",
      "    review.encode('utf8','ignore')\n",
      "    documents.append(tweet_review_bi(cat, review))\n",
      "    \n",
      "    \n",
      "def document_features(document_words): # [_document-classify-extractor]\n",
      "    features = {}\n",
      "    for word in document_words:\n",
      "        features[word] = True\n",
      "    return features\n",
      "\n",
      "\n",
      "featuresets= [(document_features(d), c) for (d,c) in documents]\n",
      "\n",
      "import random\n",
      "# Shuffle the data before doing the training\n",
      "random.shuffle(featuresets)\n",
      "\n",
      "train_set, test_set = featuresets[:1000], featuresets[3000:]\n",
      "\n",
      "# Build the NaiveBayes Classifier\n",
      "classifier = nltk.NaiveBayesClassifier.train(train_set)\n",
      "\n",
      "labels_test=[]\n",
      "for i in range(len(test_set)):\n",
      "    labels_test.append(test_set[i][1])\n",
      "\n",
      "labels_model=[]\n",
      "for i in range(len(test_set)):\n",
      "    labels_model.append(classifier.classify(test_set[1][0]))\n",
      "\n",
      "\n",
      "print nltk.classify.accuracy(classifier, test_set) \n",
      "print metrics.classification_report(labels_test, labels_model)\n",
      "classifier.show_most_informative_features(20)\n",
      "\n"
     ],
     "language": "python",
     "metadata": {},
     "outputs": [
      {
       "output_type": "stream",
       "stream": "stdout",
       "text": [
        "0.79\n",
        "             precision    recall  f1-score   support\n",
        "\n",
        "          0       0.28      1.00      0.43       550\n",
        "          1       0.00      0.00      0.00      1450\n",
        "\n",
        "avg / total       0.08      0.28      0.12      2000\n",
        "\n",
        "Most Informative Features\n",
        "   (u'ventur', u'capit') = True                0 : 1      =     37.1 : 1.0"
       ]
      },
      {
       "output_type": "stream",
       "stream": "stdout",
       "text": [
        "\n",
        "  (u'Partner', u'Deliv') = True                0 : 1      =     13.0 : 1.0\n",
        "(u'JerthroData', u'Partner') = True                0 : 1      =     13.0 : 1.0\n",
        "(u'Qlik', u'JerthroData') = True                0 : 1      =     13.0 : 1.0\n",
        " (u'Deliv', u'Interact') = True                0 : 1      =     13.0 : 1.0\n",
        "  (u'Interact', u'Data') = True                0 : 1      =     13.0 : 1.0\n",
        "   (u'Data', u'Collect') = True                0 : 1      =     11.9 : 1.0\n",
        "      (u'firm', u'Data') = True                0 : 1      =     11.9 : 1.0\n",
        "    (u'Some', u'ventur') = True                0 : 1      =      7.8 : 1.0\n",
        " (u'Data', u'Discoveri') = True                0 : 1      =      7.8 : 1.0\n",
        "(u'.', u'//t.co/OS8FLGLHnl') = True                0 : 1      =      7.8 : 1.0\n",
        "  (u'center', u'modern') = True                0 : 1      =      6.0 : 1.0\n",
        "(u'day', u'architectur') = True                0 : 1      =      6.0 : 1.0\n",
        "  (u'Data', u'Warehous') = True                0 : 1      =      6.0 : 1.0\n",
        " (u'Platform', u'Initi') = True                0 : 1      =      6.0 : 1.0\n",
        "        (u'Join', u'us') = True                0 : 1      =      6.0 : 1.0\n",
        "     (u'modern', u'day') = True                0 : 1      =      6.0 : 1.0\n",
        "  (u'architectur', u'.') = True                0 : 1      =      6.0 : 1.0\n",
        "     (u'open', u'sourc') = True                1 : 0      =      6.0 : 1.0\n",
        "         (u'Thi', u'VC') = True                0 : 1      =      5.7 : 1.0\n"
       ]
      }
     ],
     "prompt_number": 236
    },
    {
     "cell_type": "markdown",
     "metadata": {},
     "source": [
      "**And finally what about trigrams?**"
     ]
    },
    {
     "cell_type": "code",
     "collapsed": false,
     "input": [
      "def tweet_review_tri(mail_type, text):\n",
      "    stemmer=stem.PorterStemmer()\n",
      "    stopwords=nltk.corpus.stopwords.words('english')\n",
      "    \n",
      "    words=tokenize.word_tokenize(text)\n",
      "    word= [token for token in words if re.search(r'^[a-zA-Z]+', token)]\n",
      "    \n",
      "    stem_words = [stemmer.stem(word) for word in words if word not in stopwords and word not in ['Hadoop','#','@','http',q, 'rt', 'RT', 'u',',','-',':']]\n",
      "    bigrams=nltk.trigrams(stem_words) \n",
      "    return (bigrams, mail_type)\n",
      "\n",
      "documents = []\n",
      "\n",
      "for cat, review in text_data.values:\n",
      "#     review = unicode(review, 'utf8')\n",
      "    review.encode('utf8','ignore')\n",
      "    documents.append(tweet_review_tri(cat, review))\n",
      "    \n",
      "    \n",
      "def document_features(document_words): # [_document-classify-extractor]\n",
      "    features = {}\n",
      "    for word in document_words:\n",
      "        features[word] = True\n",
      "    return features\n",
      "\n",
      "\n",
      "featuresets= [(document_features(d), c) for (d,c) in documents]\n",
      "\n",
      "import random\n",
      "# Shuffle the data before doing the training\n",
      "random.shuffle(featuresets)\n",
      "\n",
      "train_set, test_set = featuresets[:1000], featuresets[3000:]\n",
      "\n",
      "# Build the NaiveBayes Classifier\n",
      "classifier = nltk.NaiveBayesClassifier.train(train_set)\n",
      "\n",
      "labels_test=[]\n",
      "for i in range(len(test_set)):\n",
      "    labels_test.append(test_set[i][1])\n",
      "\n",
      "labels_model=[]\n",
      "for i in range(len(test_set)):\n",
      "    labels_model.append(classifier.classify(test_set[1][0]))\n",
      "\n",
      "\n",
      "print nltk.classify.accuracy(classifier, test_set) \n",
      "print metrics.classification_report(labels_test, labels_model)\n",
      "classifier.show_most_informative_features(20)\n",
      "\n",
      "\n"
     ],
     "language": "python",
     "metadata": {},
     "outputs": [
      {
       "output_type": "stream",
       "stream": "stdout",
       "text": [
        "0.8025\n",
        "             precision    recall  f1-score   support\n",
        "\n",
        "          0       0.28      1.00      0.44       565\n",
        "          1       0.00      0.00      0.00      1435\n",
        "\n",
        "avg / total       0.08      0.28      0.12      2000\n",
        "\n",
        "Most Informative Features\n",
        "(u'success', u'Some', u'ventur') = True                0 : 1      =     15.5 : 1.0"
       ]
      },
      {
       "output_type": "stream",
       "stream": "stdout",
       "text": [
        "\n",
        "(u'startup', u'success', u'Some') = True                0 : 1      =     15.5 : 1.0\n",
        "(u'|', u'BigDataSV', u'WANdisco') = True                0 : 1      =     10.0 : 1.0\n",
        "(u'JerthroData', u'Partner', u'Deliv') = True                0 : 1      =     10.0 : 1.0\n",
        "(u'Qlik', u'JerthroData', u'Partner') = True                0 : 1      =     10.0 : 1.0\n",
        "(u'Data', u'Discoveri', u'Solut') = True                0 : 1      =      8.2 : 1.0\n",
        "(u'iter', u'|', u'BigDataSV') = True                0 : 1      =      7.1 : 1.0\n",
        "    (u'&', u'amp', u';') = True                1 : 0      =      6.3 : 1.0\n",
        "(u'Partner', u'Deliv', u'Interact') = True                0 : 1      =      6.0 : 1.0\n",
        "(u'Interact', u'Data', u'Discoveri') = True                0 : 1      =      6.0 : 1.0\n",
        "(u'Deliv', u'Interact', u'Data') = True                0 : 1      =      6.0 : 1.0\n",
        "(u'Some', u'ventur', u'capit') = True                0 : 1      =      5.2 : 1.0\n",
        "(u'But', u'DBM', u'Provid') = True                0 : 1      =      5.1 : 1.0\n",
        "(u'Poll', u'Still', u'Say') = True                0 : 1      =      5.1 : 1.0\n",
        "(u'WANDisco', u'expand', u'data') = True                0 : 1      =      5.1 : 1.0\n",
        "(u'replic', u'across', u'differ') = True                0 : 1      =      5.1 : 1.0\n",
        "(u'data', u'replic', u'across') = True                0 : 1      =      5.1 : 1.0\n",
        "(u'differ', u'iter', u'|') = True                0 : 1      =      5.1 : 1.0\n",
        "(u'Chief', u'Data', u'Scientist') = True                0 : 1      =      5.1 : 1.0\n",
        "(u'Which', u'SQL', u'?') = True                0 : 1      =      5.1 : 1.0\n"
       ]
      }
     ],
     "prompt_number": 237
    },
    {
     "cell_type": "code",
     "collapsed": false,
     "input": [
      "test_set[1][0]"
     ],
     "language": "python",
     "metadata": {},
     "outputs": [
      {
       "metadata": {},
       "output_type": "pyout",
       "prompt_number": 238,
       "text": [
        "{(u'(', u'Echo', u'System'): True,\n",
        " (u')', u'\\u3010http', u'//t.co/JrV6hMtH6W\\u3011'): True,\n",
        " (u'Echo', u'System', u')'): True,\n",
        " (u'System', u')', u'\\u3010http'): True,\n",
        " (u'\\u3010http', u'//t.co/JrV6hMtH6W\\u3011', u'\\u2605-1078714754\\u2605'): True,\n",
        " (u'\\uc2dc\\uc2a4\\ud15c', u'(', u'Echo'): True,\n",
        " (u'\\uc5d0\\ucf54', u'\\uc2dc\\uc2a4\\ud15c', u'('): True,\n",
        " (u'\\ud558\\ub461', u'\\uc5d0\\ucf54', u'\\uc2dc\\uc2a4\\ud15c'): True}"
       ]
      }
     ],
     "prompt_number": 238
    },
    {
     "cell_type": "code",
     "collapsed": false,
     "input": [
      "import collections\n",
      "def create_clf(featx):\n",
      "    negids = text_data[text_data.clf == 0]\n",
      "    posids = text_data[text_data.clf == 1]\n",
      "    \n",
      "    negfeats = [(featx(word_tokenize(row['text'])), 'neg') for index, row in negids.iterrows()]\n",
      "    posfeats = [(featx(word_tokenize(row['text'])), 'pos') for index, row in posids.iterrows()]\n",
      "    \n",
      "    negcutoff = len(negfeats)*3/4\n",
      "    poscutoff = len(posfeats)*3/4\n",
      "\n",
      "    trainfeats = negfeats[:negcutoff] + posfeats[:poscutoff]\n",
      "    testfeats = negfeats[negcutoff:] + posfeats[poscutoff:]\n",
      "\n",
      "    classifier = NaiveBayesClassifier.train(trainfeats)\n",
      "    return classifier, testfeats\n",
      "\n",
      "def eval_clf(clf, testfeats):\n",
      "    refsets = collections.defaultdict(set)\n",
      "    testsets = collections.defaultdict(set)\n",
      "    \n",
      "    for i, (feats, label) in enumerate(testfeats):\n",
      "        refsets[label].add(i)\n",
      "        observed = classifier.classify(feats)\n",
      "        testsets[observed].add(i)\n",
      "        \n",
      "  \n",
      "    print 'pos precision:', nltk.metrics.precision(refsets['pos'], testsets['pos'])\n",
      "    print 'pos recall:', nltk.metrics.recall(refsets['pos'], testsets['pos'])\n",
      "    print 'pos F-measure:', nltk.metrics.f_measure(refsets['pos'], testsets['pos'])\n",
      "    print 'neg precision:', nltk.metrics.precision(refsets['neg'], testsets['neg'])\n",
      "    print 'neg recall:', nltk.metrics.recall(refsets['neg'], testsets['neg'])\n",
      "    print 'neg F-measure:', nltk.metrics.f_measure(refsets['neg'], testsets['neg'])\n",
      "\n",
      "    \n",
      "eval_clf(classifier, testfeats)\n",
      "classifier.show_most_informative_features()"
     ],
     "language": "python",
     "metadata": {},
     "outputs": [
      {
       "ename": "NameError",
       "evalue": "name 'testfeats' is not defined",
       "output_type": "pyerr",
       "traceback": [
        "\u001b[0;31m---------------------------------------------------------------------------\u001b[0m\n\u001b[0;31mNameError\u001b[0m                                 Traceback (most recent call last)",
        "\u001b[0;32m<ipython-input-239-62ce4a8b536b>\u001b[0m in \u001b[0;36m<module>\u001b[0;34m()\u001b[0m\n\u001b[1;32m     34\u001b[0m \u001b[0;34m\u001b[0m\u001b[0m\n\u001b[1;32m     35\u001b[0m \u001b[0;34m\u001b[0m\u001b[0m\n\u001b[0;32m---> 36\u001b[0;31m \u001b[0meval_clf\u001b[0m\u001b[0;34m(\u001b[0m\u001b[0mclassifier\u001b[0m\u001b[0;34m,\u001b[0m \u001b[0mtestfeats\u001b[0m\u001b[0;34m)\u001b[0m\u001b[0;34m\u001b[0m\u001b[0m\n\u001b[0m\u001b[1;32m     37\u001b[0m \u001b[0mclassifier\u001b[0m\u001b[0;34m.\u001b[0m\u001b[0mshow_most_informative_features\u001b[0m\u001b[0;34m(\u001b[0m\u001b[0;34m)\u001b[0m\u001b[0;34m\u001b[0m\u001b[0m\n",
        "\u001b[0;31mNameError\u001b[0m: name 'testfeats' is not defined"
       ]
      }
     ],
     "prompt_number": 239
    },
    {
     "cell_type": "code",
     "collapsed": false,
     "input": [
      "sftweet.reset_index()\n",
      "feature_cols = [col for col in sftweet.columns if col not in ['retweeted?', 'retweeted', 'favorited', 'retweet_count','favorite_count','favorited?','type', 'coordinates','geo','user','coor']]\n",
      "x_data=sftweet[feature_cols]\n",
      "y_data=sftweet['retweet_count']\n",
      "\n",
      "x_data=x_data.reset_index()\n",
      "y_data=y_data.reset_index()\n",
      "\n",
      "text_data=sftweet[['retweeted?','text']].reset_index()\n",
      "text_data = text_data[['retweeted?','text']]\n",
      "\n",
      "x_data['hash?']=x_data.text.apply(isitinit('#'))\n",
      "x_data['at?']=x_data.text.apply(isitinit('@'))\n",
      "x_data['question?']=x_data.text.apply(isitinit('?'))\n",
      "x_data['exclamation?']=x_data.text.apply(isitinit('!'))\n",
      "x_data['sentiment']=x_data.text.apply(sentiment)\n",
      "x_data['link?']=x_data.text.apply(link)\n",
      "x_data['time']=x_data['created_at'].apply(lambda x: np.datetime64(x))\n",
      "\n",
      "feature_cols_notext = [col for col in x_data.columns if col not in ['text', 'user_desc','id','created_at','time','index','lat','long']]\n",
      "x=x_data[feature_cols_notext]\n",
      "y=y_data['retweet_count']\n",
      "\n",
      "X_train, X_test, y_train, y_test = train_test_split(x, y)\n",
      "\n"
     ],
     "language": "python",
     "metadata": {},
     "outputs": []
    },
    {
     "cell_type": "code",
     "collapsed": false,
     "input": [
      "from sklearn.linear_model import ARDRegression\n",
      "\n",
      "# Instantiate the estimator\n",
      "clf = ARDRegression()\n",
      "clf.fit(X_train,y_train)\n",
      "# Fit the estimator to the Training Data\n",
      "\n",
      "# Use the model to predict Test Data\n",
      "y_pred = clf.predict(X_test)"
     ],
     "language": "python",
     "metadata": {},
     "outputs": []
    },
    {
     "cell_type": "code",
     "collapsed": false,
     "input": [
      "print y_pred[0], y_test[0]"
     ],
     "language": "python",
     "metadata": {},
     "outputs": []
    },
    {
     "cell_type": "code",
     "collapsed": false,
     "input": [
      "sum_sq_model = np.sum((y_test - y_pred) ** 2)\n",
      "sum_sq_model"
     ],
     "language": "python",
     "metadata": {},
     "outputs": []
    },
    {
     "cell_type": "code",
     "collapsed": false,
     "input": [
      "\n",
      "fig, ax = plt.subplots(1, 1)\n",
      "\n",
      "ax.scatter(y_pred, y_test)\n",
      "ax.set_xlabel('Predicated # of RT')\n",
      "ax.set_ylabel('Actual # of RT')\n",
      "\n",
      "# Draw the ideal line\n",
      "ax.plot(y, y, 'r')"
     ],
     "language": "python",
     "metadata": {},
     "outputs": []
    },
    {
     "cell_type": "code",
     "collapsed": false,
     "input": [],
     "language": "python",
     "metadata": {},
     "outputs": []
    }
   ],
   "metadata": {}
  }
 ]
}