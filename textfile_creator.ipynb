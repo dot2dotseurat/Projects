{
 "cells": [
  {
   "cell_type": "code",
   "execution_count": 2,
   "metadata": {
    "collapsed": true
   },
   "outputs": [],
   "source": [
    "import pandas as pd\n",
    "import numpy as np\n",
    "import math"
   ]
  },
  {
   "cell_type": "code",
   "execution_count": 3,
   "metadata": {
    "collapsed": false
   },
   "outputs": [
    {
     "data": {
      "text/plain": [
       "u'C:\\\\Users\\\\32985\\\\Documents'"
      ]
     },
     "execution_count": 3,
     "metadata": {},
     "output_type": "execute_result"
    }
   ],
   "source": [
    "pwd"
   ]
  },
  {
   "cell_type": "code",
   "execution_count": 4,
   "metadata": {
    "collapsed": false
   },
   "outputs": [],
   "source": [
    "wd='K:/Working/Yelin_Matt/LFS_Surveys/unformatted/'"
   ]
  },
  {
   "cell_type": "code",
   "execution_count": 5,
   "metadata": {
    "collapsed": false
   },
   "outputs": [],
   "source": [
    "min_ec=[]\n",
    "max_ec=[]"
   ]
  },
  {
   "cell_type": "code",
   "execution_count": 7,
   "metadata": {
    "collapsed": false
   },
   "outputs": [],
   "source": [
    "df_inspect=pd.read_csv('K:/Working/Yelin_Matt/LFS_Surveys/unformatted/2013_1.csv')"
   ]
  },
  {
   "cell_type": "code",
   "execution_count": 62,
   "metadata": {
    "collapsed": false
   },
   "outputs": [
    {
     "name": "stdout",
     "output_type": "stream",
     "text": [
      "<type 'numpy.float64'> <type 'numpy.float64'> <type 'numpy.float64'>\n",
      "<type 'numpy.float64'> <type 'numpy.float64'> <type 'numpy.float64'>\n",
      "<type 'numpy.float64'> <type 'numpy.float64'> <type 'numpy.float64'>\n",
      "<type 'numpy.float64'> <type 'numpy.float64'> <type 'numpy.float64'>\n",
      "<type 'numpy.float64'> <type 'numpy.float64'> <type 'numpy.float64'>\n",
      "<type 'numpy.float64'> <type 'numpy.float64'> <type 'numpy.float64'>\n"
     ]
    },
    {
     "name": "stderr",
     "output_type": "stream",
     "text": [
      "C:\\Users\\32985\\AppData\\Local\\Continuum\\Anaconda\\lib\\site-packages\\IPython\\kernel\\__main__.py:25: SettingWithCopyWarning: \n",
      "A value is trying to be set on a copy of a slice from a DataFrame\n",
      "\n",
      "See the the caveats in the documentation: http://pandas.pydata.org/pandas-docs/stable/indexing.html#indexing-view-versus-copy\n",
      "C:\\Users\\32985\\AppData\\Local\\Continuum\\Anaconda\\lib\\site-packages\\IPython\\kernel\\__main__.py:26: SettingWithCopyWarning: \n",
      "A value is trying to be set on a copy of a slice from a DataFrame\n",
      "\n",
      "See the the caveats in the documentation: http://pandas.pydata.org/pandas-docs/stable/indexing.html#indexing-view-versus-copy\n",
      "C:\\Users\\32985\\AppData\\Local\\Continuum\\Anaconda\\lib\\site-packages\\IPython\\kernel\\__main__.py:27: SettingWithCopyWarning: \n",
      "A value is trying to be set on a copy of a slice from a DataFrame\n",
      "\n",
      "See the the caveats in the documentation: http://pandas.pydata.org/pandas-docs/stable/indexing.html#indexing-view-versus-copy\n"
     ]
    }
   ],
   "source": [
    "path_2013=[]\n",
    "numbers=['1','2','3','4','5','6']\n",
    "for i in range(6):\n",
    "    path_2013.append(wd+'2013_'+numbers[i]+'.csv')\n",
    "\n",
    "path_2013_formatted=[]\n",
    "numbers=['1','2','3','4','5','6']\n",
    "for i in range(6):\n",
    "    path_2013_formatted.append(wd+'2013_'+numbers[i]+'_formatted'+'.csv')\n",
    "    \n",
    "df_name=[]\n",
    "for i in range(6):\n",
    "    df_name.append('sur_2013_'+numbers[i])\n",
    "\n",
    "for i in range(6):\n",
    "    df_name[i]=pd.read_csv(path_2013[i])\n",
    "    \n",
    "for i in range(6):\n",
    "    frame=df_name[i][['Lat','Long','TopEC']]\n",
    "    frame = frame[frame.TopEC != '(blank)']\n",
    "    frame.reset_index(inplace=True)\n",
    "    frame['Sal']=np.nan\n",
    "    for k in range(len(frame)):\n",
    "       # frame['Long'][k]=-frame['Long'][k]\n",
    "        frame['Long'][k]= -frame['Long'][k]\n",
    "        frame['TopEC'][k]= np.float64(frame['TopEC'][k])\n",
    "        frame['Sal'][k]=0.0003*math.pow(frame['TopEC'][k], 1.0648)\n",
    "    frame=frame[['Lat','Long','TopEC','Sal']]\n",
    "    print type(frame['Lat'][0]) , type(frame['Long'][0]), type(frame['TopEC'][0])\n",
    "    frame.to_csv(path_2013_formatted[i],index=False)\n",
    "    "
   ]
  },
  {
   "cell_type": "code",
   "execution_count": 63,
   "metadata": {
    "collapsed": false
   },
   "outputs": [
    {
     "data": {
      "text/html": [
       "<div style=\"max-height:1000px;max-width:1500px;overflow:auto;\">\n",
       "<table border=\"1\" class=\"dataframe\">\n",
       "  <thead>\n",
       "    <tr style=\"text-align: right;\">\n",
       "      <th></th>\n",
       "      <th>Lat</th>\n",
       "      <th>Long</th>\n",
       "      <th>TopEC</th>\n",
       "      <th>Sal</th>\n",
       "    </tr>\n",
       "  </thead>\n",
       "  <tbody>\n",
       "    <tr>\n",
       "      <th>0 </th>\n",
       "      <td> 38.051306</td>\n",
       "      <td>-122.083306</td>\n",
       "      <td> 12450</td>\n",
       "      <td> 6.881095</td>\n",
       "    </tr>\n",
       "    <tr>\n",
       "      <th>1 </th>\n",
       "      <td> 38.064806</td>\n",
       "      <td>-122.097806</td>\n",
       "      <td> 16100</td>\n",
       "      <td> 9.047934</td>\n",
       "    </tr>\n",
       "    <tr>\n",
       "      <th>2 </th>\n",
       "      <td> 38.088222</td>\n",
       "      <td>-122.003583</td>\n",
       "      <td>  8680</td>\n",
       "      <td> 4.686591</td>\n",
       "    </tr>\n",
       "    <tr>\n",
       "      <th>3 </th>\n",
       "      <td> 38.061056</td>\n",
       "      <td>-122.013722</td>\n",
       "      <td>  6160</td>\n",
       "      <td> 3.252871</td>\n",
       "    </tr>\n",
       "    <tr>\n",
       "      <th>4 </th>\n",
       "      <td> 38.045500</td>\n",
       "      <td>-121.918806</td>\n",
       "      <td>  3878</td>\n",
       "      <td> 1.987334</td>\n",
       "    </tr>\n",
       "    <tr>\n",
       "      <th>5 </th>\n",
       "      <td> 38.058306</td>\n",
       "      <td>-121.868000</td>\n",
       "      <td>  2737</td>\n",
       "      <td> 1.371297</td>\n",
       "    </tr>\n",
       "    <tr>\n",
       "      <th>6 </th>\n",
       "      <td> 38.072306</td>\n",
       "      <td>-121.959694</td>\n",
       "      <td>  5150</td>\n",
       "      <td> 2.688151</td>\n",
       "    </tr>\n",
       "    <tr>\n",
       "      <th>7 </th>\n",
       "      <td> 38.032806</td>\n",
       "      <td>-121.869306</td>\n",
       "      <td>  1134</td>\n",
       "      <td> 0.536628</td>\n",
       "    </tr>\n",
       "    <tr>\n",
       "      <th>8 </th>\n",
       "      <td> 38.114000</td>\n",
       "      <td>-122.046194</td>\n",
       "      <td>  9100</td>\n",
       "      <td> 4.928429</td>\n",
       "    </tr>\n",
       "    <tr>\n",
       "      <th>9 </th>\n",
       "      <td> 38.167194</td>\n",
       "      <td>-121.938000</td>\n",
       "      <td>  5080</td>\n",
       "      <td> 2.649262</td>\n",
       "    </tr>\n",
       "    <tr>\n",
       "      <th>10</th>\n",
       "      <td> 38.042194</td>\n",
       "      <td>-121.795222</td>\n",
       "      <td>   803</td>\n",
       "      <td> 0.371589</td>\n",
       "    </tr>\n",
       "    <tr>\n",
       "      <th>11</th>\n",
       "      <td> 38.069167</td>\n",
       "      <td>-121.775278</td>\n",
       "      <td>   598</td>\n",
       "      <td> 0.271489</td>\n",
       "    </tr>\n",
       "    <tr>\n",
       "      <th>12</th>\n",
       "      <td> 38.087111</td>\n",
       "      <td>-121.709167</td>\n",
       "      <td>   211</td>\n",
       "      <td> 0.089540</td>\n",
       "    </tr>\n",
       "    <tr>\n",
       "      <th>13</th>\n",
       "      <td> 38.085194</td>\n",
       "      <td>-121.750694</td>\n",
       "      <td>   293</td>\n",
       "      <td> 0.127011</td>\n",
       "    </tr>\n",
       "    <tr>\n",
       "      <th>14</th>\n",
       "      <td> 38.242500</td>\n",
       "      <td>-121.669722</td>\n",
       "      <td>   203</td>\n",
       "      <td> 0.085930</td>\n",
       "    </tr>\n",
       "    <tr>\n",
       "      <th>15</th>\n",
       "      <td> 38.043694</td>\n",
       "      <td>-121.844000</td>\n",
       "      <td>   993</td>\n",
       "      <td> 0.465879</td>\n",
       "    </tr>\n",
       "    <tr>\n",
       "      <th>16</th>\n",
       "      <td> 38.018194</td>\n",
       "      <td>-121.797000</td>\n",
       "      <td>   526</td>\n",
       "      <td> 0.236825</td>\n",
       "    </tr>\n",
       "    <tr>\n",
       "      <th>17</th>\n",
       "      <td> 38.052500</td>\n",
       "      <td>-121.689194</td>\n",
       "      <td>   431</td>\n",
       "      <td> 0.191563</td>\n",
       "    </tr>\n",
       "    <tr>\n",
       "      <th>18</th>\n",
       "      <td> 38.090306</td>\n",
       "      <td>-121.640500</td>\n",
       "      <td>   278</td>\n",
       "      <td> 0.120099</td>\n",
       "    </tr>\n",
       "    <tr>\n",
       "      <th>19</th>\n",
       "      <td> 38.048278</td>\n",
       "      <td>-121.595250</td>\n",
       "      <td>   284</td>\n",
       "      <td> 0.122861</td>\n",
       "    </tr>\n",
       "    <tr>\n",
       "      <th>20</th>\n",
       "      <td> 38.019194</td>\n",
       "      <td>-121.582194</td>\n",
       "      <td>   291</td>\n",
       "      <td> 0.126088</td>\n",
       "    </tr>\n",
       "    <tr>\n",
       "      <th>21</th>\n",
       "      <td> 37.942500</td>\n",
       "      <td>-121.563500</td>\n",
       "      <td>   300</td>\n",
       "      <td> 0.130245</td>\n",
       "    </tr>\n",
       "  </tbody>\n",
       "</table>\n",
       "</div>"
      ],
      "text/plain": [
       "          Lat        Long  TopEC       Sal\n",
       "0   38.051306 -122.083306  12450  6.881095\n",
       "1   38.064806 -122.097806  16100  9.047934\n",
       "2   38.088222 -122.003583   8680  4.686591\n",
       "3   38.061056 -122.013722   6160  3.252871\n",
       "4   38.045500 -121.918806   3878  1.987334\n",
       "5   38.058306 -121.868000   2737  1.371297\n",
       "6   38.072306 -121.959694   5150  2.688151\n",
       "7   38.032806 -121.869306   1134  0.536628\n",
       "8   38.114000 -122.046194   9100  4.928429\n",
       "9   38.167194 -121.938000   5080  2.649262\n",
       "10  38.042194 -121.795222    803  0.371589\n",
       "11  38.069167 -121.775278    598  0.271489\n",
       "12  38.087111 -121.709167    211  0.089540\n",
       "13  38.085194 -121.750694    293  0.127011\n",
       "14  38.242500 -121.669722    203  0.085930\n",
       "15  38.043694 -121.844000    993  0.465879\n",
       "16  38.018194 -121.797000    526  0.236825\n",
       "17  38.052500 -121.689194    431  0.191563\n",
       "18  38.090306 -121.640500    278  0.120099\n",
       "19  38.048278 -121.595250    284  0.122861\n",
       "20  38.019194 -121.582194    291  0.126088\n",
       "21  37.942500 -121.563500    300  0.130245"
      ]
     },
     "execution_count": 63,
     "metadata": {},
     "output_type": "execute_result"
    }
   ],
   "source": [
    "frame"
   ]
  },
  {
   "cell_type": "code",
   "execution_count": 9,
   "metadata": {
    "collapsed": false
   },
   "outputs": [
    {
     "data": {
      "text/plain": [
       "numpy.float64"
      ]
     },
     "execution_count": 9,
     "metadata": {},
     "output_type": "execute_result"
    }
   ],
   "source": [
    "type(frame['TopEC'][1])"
   ]
  },
  {
   "cell_type": "code",
   "execution_count": null,
   "metadata": {
    "collapsed": true
   },
   "outputs": [],
   "source": []
  },
  {
   "cell_type": "code",
   "execution_count": 7,
   "metadata": {
    "collapsed": false
   },
   "outputs": [
    {
     "ename": "TypeError",
     "evalue": "invalid type comparison",
     "output_type": "error",
     "traceback": [
      "\u001b[1;31m---------------------------------------------------------------------------\u001b[0m",
      "\u001b[1;31mTypeError\u001b[0m                                 Traceback (most recent call last)",
      "\u001b[1;32m<ipython-input-7-646333e94eee>\u001b[0m in \u001b[0;36m<module>\u001b[1;34m()\u001b[0m\n\u001b[0;32m     18\u001b[0m \u001b[1;32mfor\u001b[0m \u001b[0mi\u001b[0m \u001b[1;32min\u001b[0m \u001b[0mrange\u001b[0m\u001b[1;33m(\u001b[0m\u001b[1;36m6\u001b[0m\u001b[1;33m)\u001b[0m\u001b[1;33m:\u001b[0m\u001b[1;33m\u001b[0m\u001b[0m\n\u001b[0;32m     19\u001b[0m     \u001b[0mframe\u001b[0m\u001b[1;33m=\u001b[0m\u001b[0mdf_name\u001b[0m\u001b[1;33m[\u001b[0m\u001b[0mi\u001b[0m\u001b[1;33m]\u001b[0m\u001b[1;33m[\u001b[0m\u001b[1;33m[\u001b[0m\u001b[1;34m'Lat'\u001b[0m\u001b[1;33m,\u001b[0m\u001b[1;34m'Long'\u001b[0m\u001b[1;33m,\u001b[0m\u001b[1;34m'TopEC'\u001b[0m\u001b[1;33m]\u001b[0m\u001b[1;33m]\u001b[0m\u001b[1;33m\u001b[0m\u001b[0m\n\u001b[1;32m---> 20\u001b[1;33m     \u001b[0mframe\u001b[0m \u001b[1;33m=\u001b[0m \u001b[0mframe\u001b[0m\u001b[1;33m[\u001b[0m\u001b[0mframe\u001b[0m\u001b[1;33m.\u001b[0m\u001b[0mTopEC\u001b[0m \u001b[1;33m!=\u001b[0m \u001b[1;34m'(blank)'\u001b[0m\u001b[1;33m]\u001b[0m\u001b[1;33m\u001b[0m\u001b[0m\n\u001b[0m\u001b[0;32m     21\u001b[0m     \u001b[0mframe\u001b[0m\u001b[1;33m.\u001b[0m\u001b[0mreset_index\u001b[0m\u001b[1;33m(\u001b[0m\u001b[0minplace\u001b[0m\u001b[1;33m=\u001b[0m\u001b[0mTrue\u001b[0m\u001b[1;33m)\u001b[0m\u001b[1;33m\u001b[0m\u001b[0m\n\u001b[0;32m     22\u001b[0m     \u001b[0mframe\u001b[0m\u001b[1;33m[\u001b[0m\u001b[1;34m'Sal'\u001b[0m\u001b[1;33m]\u001b[0m\u001b[1;33m=\u001b[0m\u001b[0mnp\u001b[0m\u001b[1;33m.\u001b[0m\u001b[0mnan\u001b[0m\u001b[1;33m\u001b[0m\u001b[0m\n",
      "\u001b[1;32mC:\\Users\\32985\\AppData\\Local\\Continuum\\Anaconda\\lib\\site-packages\\pandas\\core\\ops.pyc\u001b[0m in \u001b[0;36mwrapper\u001b[1;34m(self, other)\u001b[0m\n\u001b[0;32m    601\u001b[0m \u001b[1;33m\u001b[0m\u001b[0m\n\u001b[0;32m    602\u001b[0m         \u001b[1;31m# scalars\u001b[0m\u001b[1;33m\u001b[0m\u001b[1;33m\u001b[0m\u001b[0m\n\u001b[1;32m--> 603\u001b[1;33m         \u001b[0mres\u001b[0m \u001b[1;33m=\u001b[0m \u001b[0mna_op\u001b[0m\u001b[1;33m(\u001b[0m\u001b[0mvalues\u001b[0m\u001b[1;33m,\u001b[0m \u001b[0mother\u001b[0m\u001b[1;33m)\u001b[0m\u001b[1;33m\u001b[0m\u001b[0m\n\u001b[0m\u001b[0;32m    604\u001b[0m         \u001b[1;32mif\u001b[0m \u001b[0mnp\u001b[0m\u001b[1;33m.\u001b[0m\u001b[0misscalar\u001b[0m\u001b[1;33m(\u001b[0m\u001b[0mres\u001b[0m\u001b[1;33m)\u001b[0m\u001b[1;33m:\u001b[0m\u001b[1;33m\u001b[0m\u001b[0m\n\u001b[0;32m    605\u001b[0m             raise TypeError('Could not compare %s type with Series'\n",
      "\u001b[1;32mC:\\Users\\32985\\AppData\\Local\\Continuum\\Anaconda\\lib\\site-packages\\pandas\\core\\ops.pyc\u001b[0m in \u001b[0;36mna_op\u001b[1;34m(x, y)\u001b[0m\n\u001b[0;32m    565\u001b[0m                 \u001b[0mresult\u001b[0m \u001b[1;33m=\u001b[0m \u001b[0mgetattr\u001b[0m\u001b[1;33m(\u001b[0m\u001b[0mx\u001b[0m\u001b[1;33m,\u001b[0m \u001b[0mname\u001b[0m\u001b[1;33m)\u001b[0m\u001b[1;33m(\u001b[0m\u001b[0my\u001b[0m\u001b[1;33m)\u001b[0m\u001b[1;33m\u001b[0m\u001b[0m\n\u001b[0;32m    566\u001b[0m                 \u001b[1;32mif\u001b[0m \u001b[0mresult\u001b[0m \u001b[1;32mis\u001b[0m \u001b[0mNotImplemented\u001b[0m\u001b[1;33m:\u001b[0m\u001b[1;33m\u001b[0m\u001b[0m\n\u001b[1;32m--> 567\u001b[1;33m                     \u001b[1;32mraise\u001b[0m \u001b[0mTypeError\u001b[0m\u001b[1;33m(\u001b[0m\u001b[1;34m\"invalid type comparison\"\u001b[0m\u001b[1;33m)\u001b[0m\u001b[1;33m\u001b[0m\u001b[0m\n\u001b[0m\u001b[0;32m    568\u001b[0m             \u001b[1;32mexcept\u001b[0m \u001b[1;33m(\u001b[0m\u001b[0mAttributeError\u001b[0m\u001b[1;33m)\u001b[0m\u001b[1;33m:\u001b[0m\u001b[1;33m\u001b[0m\u001b[0m\n\u001b[0;32m    569\u001b[0m                 \u001b[0mresult\u001b[0m \u001b[1;33m=\u001b[0m \u001b[0mop\u001b[0m\u001b[1;33m(\u001b[0m\u001b[0mx\u001b[0m\u001b[1;33m,\u001b[0m \u001b[0my\u001b[0m\u001b[1;33m)\u001b[0m\u001b[1;33m\u001b[0m\u001b[0m\n",
      "\u001b[1;31mTypeError\u001b[0m: invalid type comparison"
     ]
    }
   ],
   "source": [
    "path_2012=[]\n",
    "numbers=['1','2','3','4','5','6']\n",
    "for i in range(6):\n",
    "    path_2012.append(wd+'2012_'+numbers[i]+'.csv')\n",
    "\n",
    "path_2012_formatted=[]\n",
    "numbers=['1','2','3','4','5','6']\n",
    "for i in range(6):\n",
    "    path_2012_formatted.append(wd+'2012_'+numbers[i]+'_formatted'+'.csv')\n",
    "    \n",
    "df_name=[]\n",
    "for i in range(6):\n",
    "    df_name.append('sur_2012_'+numbers[i])\n",
    "\n",
    "for i in range(6):\n",
    "    df_name[i]=pd.read_csv(path_2012[i])\n",
    "    \n",
    "for i in range(6):\n",
    "    frame=df_name[i][['Lat','Long','TopEC']]\n",
    "    frame = frame[frame.TopEC != '(blank)']\n",
    "    frame.reset_index(inplace=True)\n",
    "    frame['Sal']=np.nan\n",
    "    for k in range(len(frame)):\n",
    "       # frame['Long'][k]=-frame['Long'][k]\n",
    "        frame['Long'][k]= -frame['Long'][k]\n",
    "        frame['TopEC'][k]= np.float64(frame['TopEC'][k])\n",
    "        frame['Sal'][k]=0.0003*math.pow(frame['TopEC'][k], 1.0648)\n",
    "    frame=frame[['Lat','Long','TopEC','Sal']]\n",
    "    frame.to_csv(path_2012_formatted[i],index=False)"
   ]
  },
  {
   "cell_type": "code",
   "execution_count": 9,
   "metadata": {
    "collapsed": false
   },
   "outputs": [
    {
     "name": "stderr",
     "output_type": "stream",
     "text": [
      "C:\\Users\\32985\\AppData\\Local\\Continuum\\Anaconda\\lib\\site-packages\\IPython\\kernel\\__main__.py:25: SettingWithCopyWarning: \n",
      "A value is trying to be set on a copy of a slice from a DataFrame\n",
      "\n",
      "See the the caveats in the documentation: http://pandas.pydata.org/pandas-docs/stable/indexing.html#indexing-view-versus-copy\n",
      "C:\\Users\\32985\\AppData\\Local\\Continuum\\Anaconda\\lib\\site-packages\\IPython\\kernel\\__main__.py:26: SettingWithCopyWarning: \n",
      "A value is trying to be set on a copy of a slice from a DataFrame\n",
      "\n",
      "See the the caveats in the documentation: http://pandas.pydata.org/pandas-docs/stable/indexing.html#indexing-view-versus-copy\n",
      "C:\\Users\\32985\\AppData\\Local\\Continuum\\Anaconda\\lib\\site-packages\\IPython\\kernel\\__main__.py:27: SettingWithCopyWarning: \n",
      "A value is trying to be set on a copy of a slice from a DataFrame\n",
      "\n",
      "See the the caveats in the documentation: http://pandas.pydata.org/pandas-docs/stable/indexing.html#indexing-view-versus-copy\n"
     ]
    }
   ],
   "source": [
    "path_2011=[]\n",
    "numbers=['1','2','3','4','5']\n",
    "for i in range(5):\n",
    "    path_2011.append(wd+'2011_'+numbers[i]+'.csv')\n",
    "\n",
    "path_2011_formatted=[]\n",
    "numbers=['1','2','3','4','5','6']\n",
    "for i in range(5):\n",
    "    path_2011_formatted.append(wd+'2011_'+numbers[i]+'_formatted'+'.csv')\n",
    "    \n",
    "df_name=[]\n",
    "for i in range(5):\n",
    "    df_name.append('sur_2011_'+numbers[i])\n",
    "\n",
    "for i in range(5):\n",
    "    df_name[i]=pd.read_csv(path_2011[i])\n",
    "    \n",
    "for i in range(5):\n",
    "    frame=df_name[i][['Lat','Long','TopEC']]\n",
    "    frame = frame[frame.TopEC != '(blank)'] \n",
    "    frame.reset_index(inplace=True)\n",
    "    frame['Sal']=np.nan\n",
    "    for k in range(len(frame)):\n",
    "       # frame['Long'][k]=-frame['Long'][k]\n",
    "        frame['Long'][k]= -frame['Long'][k]\n",
    "        frame['TopEC'][k]= np.float64(frame['TopEC'][k])\n",
    "        frame['Sal'][k]=0.0003*math.pow(frame['TopEC'][k], 1.0648)\n",
    "    frame=frame[['Lat','Long','TopEC','Sal']]\n",
    "    frame.to_csv(path_2011_formatted[i],index=False)"
   ]
  },
  {
   "cell_type": "code",
   "execution_count": 5,
   "metadata": {
    "collapsed": false
   },
   "outputs": [
    {
     "name": "stderr",
     "output_type": "stream",
     "text": [
      "C:\\Users\\32985\\AppData\\Local\\Continuum\\Anaconda\\lib\\site-packages\\IPython\\kernel\\__main__.py:25: SettingWithCopyWarning: \n",
      "A value is trying to be set on a copy of a slice from a DataFrame\n",
      "\n",
      "See the the caveats in the documentation: http://pandas.pydata.org/pandas-docs/stable/indexing.html#indexing-view-versus-copy\n",
      "C:\\Users\\32985\\AppData\\Local\\Continuum\\Anaconda\\lib\\site-packages\\IPython\\kernel\\__main__.py:26: SettingWithCopyWarning: \n",
      "A value is trying to be set on a copy of a slice from a DataFrame\n",
      "\n",
      "See the the caveats in the documentation: http://pandas.pydata.org/pandas-docs/stable/indexing.html#indexing-view-versus-copy\n",
      "C:\\Users\\32985\\AppData\\Local\\Continuum\\Anaconda\\lib\\site-packages\\IPython\\kernel\\__main__.py:27: SettingWithCopyWarning: \n",
      "A value is trying to be set on a copy of a slice from a DataFrame\n",
      "\n",
      "See the the caveats in the documentation: http://pandas.pydata.org/pandas-docs/stable/indexing.html#indexing-view-versus-copy\n"
     ]
    }
   ],
   "source": [
    "path_2010=[]\n",
    "numbers=['1','2','3','4','5','6']\n",
    "for i in range(6):\n",
    "    path_2010.append(wd+'2010_'+numbers[i]+'.csv')\n",
    "\n",
    "path_2010_formatted=[]\n",
    "numbers=['1','2','3','4','5','6']\n",
    "for i in range(6):\n",
    "    path_2010_formatted.append(wd+'2010_'+numbers[i]+'_formatted'+'.csv')\n",
    "    \n",
    "df_name=[]\n",
    "for i in range(6):\n",
    "    df_name.append('sur_2010_'+numbers[i])\n",
    "\n",
    "for i in range(6):\n",
    "    df_name[i]=pd.read_csv(path_2010[i])\n",
    "    \n",
    "for i in range(6):\n",
    "    frame=df_name[i][['Lat','Long','TopEC']]\n",
    "    frame = frame[frame.TopEC != '(blank)']\n",
    "    frame.reset_index(inplace=True)\n",
    "    frame['Sal']=np.nan\n",
    "    for k in range(len(frame)):\n",
    "       # frame['Long'][k]=-frame['Long'][k]\n",
    "        frame['Long'][k]= -frame['Long'][k]\n",
    "        frame['TopEC'][k]= np.float64(frame['TopEC'][k])\n",
    "        frame['Sal'][k]=0.0003*math.pow(frame['TopEC'][k], 1.0648)\n",
    "    frame=frame[['Lat','Long','TopEC','Sal']]\n",
    "    frame.to_csv(path_2010_formatted[i],index=False)"
   ]
  },
  {
   "cell_type": "code",
   "execution_count": 5,
   "metadata": {
    "collapsed": false
   },
   "outputs": [
    {
     "name": "stderr",
     "output_type": "stream",
     "text": [
      "C:\\Users\\32985\\AppData\\Local\\Continuum\\Anaconda\\lib\\site-packages\\IPython\\kernel\\__main__.py:25: SettingWithCopyWarning: \n",
      "A value is trying to be set on a copy of a slice from a DataFrame\n",
      "\n",
      "See the the caveats in the documentation: http://pandas.pydata.org/pandas-docs/stable/indexing.html#indexing-view-versus-copy\n",
      "C:\\Users\\32985\\AppData\\Local\\Continuum\\Anaconda\\lib\\site-packages\\IPython\\kernel\\__main__.py:26: SettingWithCopyWarning: \n",
      "A value is trying to be set on a copy of a slice from a DataFrame\n",
      "\n",
      "See the the caveats in the documentation: http://pandas.pydata.org/pandas-docs/stable/indexing.html#indexing-view-versus-copy\n",
      "C:\\Users\\32985\\AppData\\Local\\Continuum\\Anaconda\\lib\\site-packages\\IPython\\kernel\\__main__.py:27: SettingWithCopyWarning: \n",
      "A value is trying to be set on a copy of a slice from a DataFrame\n",
      "\n",
      "See the the caveats in the documentation: http://pandas.pydata.org/pandas-docs/stable/indexing.html#indexing-view-versus-copy\n"
     ]
    }
   ],
   "source": [
    "path_2009=[]\n",
    "numbers=['1','2','3','4','5','6']\n",
    "for i in range(6):\n",
    "    path_2009.append(wd+'2009_'+numbers[i]+'.csv')\n",
    "\n",
    "path_2009_formatted=[]\n",
    "numbers=['1','2','3','4','5','6']\n",
    "for i in range(5):\n",
    "    path_2009_formatted.append(wd+'2009_'+numbers[i]+'_formatted'+'.csv')\n",
    "    \n",
    "df_name=[]\n",
    "for i in range(5):\n",
    "    df_name.append('sur_2009_'+numbers[i])\n",
    "\n",
    "for i in range(5):\n",
    "    df_name[i]=pd.read_csv(path_2009[i])\n",
    "    \n",
    "for i in range(5):\n",
    "    frame=df_name[i][['Lat','Long','TopEC']]\n",
    "    frame = frame[frame.TopEC != '(blank)']\n",
    "    frame.reset_index(inplace=True)\n",
    "    frame['Sal']=np.nan\n",
    "    for k in range(len(frame)):\n",
    "       # frame['Long'][k]=-frame['Long'][k]\n",
    "        frame['Long'][k]= -frame['Long'][k]\n",
    "        frame['TopEC'][k]= np.float64(frame['TopEC'][k])\n",
    "        frame['Sal'][k]=0.0003*math.pow(frame['TopEC'][k], 1.0648)\n",
    "    frame=frame[['Lat','Long','TopEC','Sal']]\n",
    "    frame.to_csv(path_2009_formatted[i],index=False)"
   ]
  },
  {
   "cell_type": "code",
   "execution_count": null,
   "metadata": {
    "collapsed": false
   },
   "outputs": [],
   "source": [
    "min_val= min(min_ec)\n",
    "max_val= max(max_ec)"
   ]
  },
  {
   "cell_type": "code",
   "execution_count": null,
   "metadata": {
    "collapsed": false
   },
   "outputs": [],
   "source": [
    "print max_val\n",
    "print min_val"
   ]
  },
  {
   "cell_type": "code",
   "execution_count": 217,
   "metadata": {
    "collapsed": false
   },
   "outputs": [],
   "source": [
    "interval=(max_val-min_val)/8"
   ]
  },
  {
   "cell_type": "code",
   "execution_count": 218,
   "metadata": {
    "collapsed": false
   },
   "outputs": [
    {
     "data": {
      "text/plain": [
       "3574"
      ]
     },
     "execution_count": 218,
     "metadata": {},
     "output_type": "execute_result"
    }
   ],
   "source": [
    "interval"
   ]
  },
  {
   "cell_type": "code",
   "execution_count": 221,
   "metadata": {
    "collapsed": false
   },
   "outputs": [],
   "source": [
    "breaks=[85]\n",
    "for i in range(8):\n",
    "    val=breaks[i]+interval\n",
    "    breaks.append(val)\n",
    "    "
   ]
  },
  {
   "cell_type": "code",
   "execution_count": 222,
   "metadata": {
    "collapsed": false
   },
   "outputs": [
    {
     "data": {
      "text/plain": [
       "[85, 3659, 7233, 10807, 14381, 17955, 21529, 25103, 28677]"
      ]
     },
     "execution_count": 222,
     "metadata": {},
     "output_type": "execute_result"
    }
   ],
   "source": [
    "breaks"
   ]
  },
  {
   "cell_type": "code",
   "execution_count": 58,
   "metadata": {
    "collapsed": false
   },
   "outputs": [],
   "source": [
    "paths=[]\n",
    "paths.append([path_2009,path_2010,path_2011,path_2012,path_2013])\n",
    "\n"
   ]
  },
  {
   "cell_type": "code",
   "execution_count": 69,
   "metadata": {
    "collapsed": false
   },
   "outputs": [],
   "source": [
    "import numpy as np\n",
    "paths_array=np.array(paths)\n",
    "paths_array=paths_array.flatten()"
   ]
  },
  {
   "cell_type": "code",
   "execution_count": 2,
   "metadata": {
    "collapsed": false
   },
   "outputs": [
    {
     "ename": "NameError",
     "evalue": "name 'path_2013' is not defined",
     "output_type": "error",
     "traceback": [
      "\u001b[1;31m---------------------------------------------------------------------------\u001b[0m",
      "\u001b[1;31mNameError\u001b[0m                                 Traceback (most recent call last)",
      "\u001b[1;32m<ipython-input-2-a5e3142f2d57>\u001b[0m in \u001b[0;36m<module>\u001b[1;34m()\u001b[0m\n\u001b[1;32m----> 1\u001b[1;33m \u001b[0mpaths\u001b[0m\u001b[1;33m=\u001b[0m\u001b[0mpath_2013\u001b[0m\u001b[1;33m+\u001b[0m\u001b[0mpath_2012\u001b[0m\u001b[1;33m+\u001b[0m\u001b[0mpath_2011\u001b[0m\u001b[1;33m+\u001b[0m\u001b[0mpath_2010\u001b[0m\u001b[1;33m+\u001b[0m\u001b[0mpath_2009\u001b[0m\u001b[1;33m\u001b[0m\u001b[0m\n\u001b[0m",
      "\u001b[1;31mNameError\u001b[0m: name 'path_2013' is not defined"
     ]
    }
   ],
   "source": [
    "paths=path_2013+path_2012+path_2011+path_2010+path_2009"
   ]
  },
  {
   "cell_type": "code",
   "execution_count": null,
   "metadata": {
    "collapsed": true
   },
   "outputs": [],
   "source": []
  }
 ],
 "metadata": {
  "kernelspec": {
   "display_name": "Python 2",
   "language": "python",
   "name": "python2"
  },
  "language_info": {
   "codemirror_mode": {
    "name": "ipython",
    "version": 2
   },
   "file_extension": ".py",
   "mimetype": "text/x-python",
   "name": "python",
   "nbconvert_exporter": "python",
   "pygments_lexer": "ipython2",
   "version": "2.7.9"
  }
 },
 "nbformat": 4,
 "nbformat_minor": 0
}
