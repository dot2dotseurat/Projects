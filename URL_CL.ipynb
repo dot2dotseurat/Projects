{
 "cells": [
  {
   "cell_type": "code",
   "execution_count": 93,
   "metadata": {
    "collapsed": false
   },
   "outputs": [
    {
     "name": "stdout",
     "output_type": "stream",
     "text": [
      "/\n",
      "/\n",
      "https://post.craigslist.org/c/sfo?lang=en\n",
      "https://accounts.craigslist.org/login/home\n",
      "#\n",
      "#\n",
      "/search/mis\n",
      "/search/mis\n",
      "https://accounts.craigslist.org/login?rt=L&rp=%2Fsavesearch%2Falert%3FURL%3Dhttps%253A%252F%252Fsfbay%252Ecraigslist%252Eorg%252Fsearch%252Fmis\n",
      "https://accounts.craigslist.org/login?rt=L&rp=%2Fsavesearch%2Fsave%3FURL%3Dhttps%253A%252F%252Fsfbay%252Ecraigslist%252Eorg%252Fsearch%252Fmis\n",
      "https://accounts.craigslist.org/login?rt=L&rp=%2Fsavesearch%2Falert%3FURL%3Dhttps%253A%252F%252Fsfbay%252Ecraigslist%252Eorg%252Fsearch%252Fmis\n",
      "#list\n",
      "#pic\n",
      "#grid\n",
      "#map\n",
      "/search/mis\n",
      "/search/mis?s=500\n",
      "/search/mis?s=628\n",
      "/sfc/mis/5034736336.html\n",
      "/sfc/mis/5034736336.html\n",
      "None\n",
      "None\n",
      "/eby/mis/5034705244.html\n",
      "/eby/mis/5034705244.html\n",
      "None\n",
      "None\n",
      "/eby/mis/5034694941.html\n",
      "/eby/mis/5034694941.html\n",
      "None\n",
      "None\n",
      "/sby/mis/5028096560.html\n",
      "/sby/mis/5028096560.html\n",
      "None\n",
      "None\n",
      "/sfc/mis/5034600387.html\n",
      "/sfc/mis/5034600387.html\n",
      "None\n",
      "None\n",
      "/sfc/mis/5034528545.html\n",
      "/sfc/mis/5034528545.html\n",
      "None\n",
      "None\n",
      "/eby/mis/5034524026.html\n",
      "/eby/mis/5034524026.html\n",
      "None\n",
      "None\n",
      "/sfc/mis/5034515735.html\n",
      "/sfc/mis/5034515735.html\n",
      "None\n",
      "None\n",
      "/eby/mis/5034484735.html\n",
      "/eby/mis/5034484735.html\n",
      "None\n",
      "None\n",
      "/nby/mis/5034428159.html\n",
      "/nby/mis/5034428159.html\n",
      "None\n",
      "None\n",
      "/eby/mis/5034415600.html\n",
      "/eby/mis/5034415600.html\n",
      "None\n",
      "None\n",
      "/nby/mis/5034422665.html\n",
      "/nby/mis/5034422665.html\n",
      "None\n",
      "None\n",
      "/eby/mis/5028017198.html\n",
      "/eby/mis/5028017198.html\n",
      "None\n",
      "None\n",
      "/eby/mis/5023833070.html\n",
      "/eby/mis/5023833070.html\n",
      "None\n",
      "None\n",
      "/sfc/mis/5034281961.html\n",
      "/sfc/mis/5034281961.html\n",
      "None\n",
      "None\n",
      "/sby/mis/5034239422.html\n",
      "/sby/mis/5034239422.html\n",
      "None\n",
      "None\n",
      "/sfc/mis/5034213414.html\n",
      "/sfc/mis/5034213414.html\n",
      "None\n",
      "None\n",
      "/sby/mis/5034180738.html\n",
      "/sby/mis/5034180738.html\n",
      "None\n",
      "None\n",
      "/eby/mis/5034136410.html\n",
      "/eby/mis/5034136410.html\n",
      "None\n",
      "None\n",
      "/sfc/mis/5034066521.html\n",
      "/sfc/mis/5034066521.html\n",
      "None\n",
      "None\n",
      "/eby/mis/5034023205.html\n",
      "/eby/mis/5034023205.html\n",
      "None\n",
      "None\n",
      "/eby/mis/5033959831.html\n",
      "/eby/mis/5033959831.html\n",
      "None\n",
      "None\n",
      "/eby/mis/5033938697.html\n",
      "/eby/mis/5033938697.html\n",
      "None\n",
      "None\n",
      "/sby/mis/5033881562.html\n",
      "/sby/mis/5033881562.html\n",
      "None\n",
      "None\n",
      "/nby/mis/5033860554.html\n",
      "/nby/mis/5033860554.html\n",
      "None\n",
      "None\n",
      "/eby/mis/5033855237.html\n",
      "/eby/mis/5033855237.html\n",
      "None\n",
      "None\n",
      "/sfc/mis/5033833858.html\n",
      "/sfc/mis/5033833858.html\n",
      "None\n",
      "None\n",
      "/eby/mis/5033815614.html\n",
      "/eby/mis/5033815614.html\n",
      "None\n",
      "None\n",
      "#pagecontainer\n",
      "#pagecontainer\n",
      "/search/mis\n",
      "/search/mis?s=500\n",
      "/search/mis?s=628\n",
      "https://sfbay.craigslist.org/search/mis?s=600&format=rss\n",
      "http://www.craigslist.org/about/rss\n",
      "//www.craigslist.org/about/help/\n",
      "//www.craigslist.org/about/scams\n",
      "//www.craigslist.org/about/privacy.policy\n",
      "https://forums.craigslist.org/?forumID=8\n",
      "//www.craigslist.org/about/craigslist_is_hiring\n",
      "//www.craigslist.org/about/terms.of.use\n",
      "//www.craigslist.org/about/\n"
     ]
    }
   ],
   "source": [
    "from bs4 import BeautifulSoup\n",
    "import urllib2\n",
    "\n",
    "redditFile = urllib2.urlopen(\"http://sfbay.craigslist.org/search/mis?s=600\")\n",
    "redditHtml = redditFile.read()\n",
    "redditFile.close()\n",
    "\n",
    "soup = BeautifulSoup(redditHtml)\n",
    "redditAll = soup.find_all(\"a\")\n",
    "for links in soup.find_all('a'):\n",
    "    print (links.get('href'))"
   ]
  },
  {
   "cell_type": "code",
   "execution_count": 13,
   "metadata": {
    "collapsed": true
   },
   "outputs": [],
   "source": [
    "import pandas as pd"
   ]
  },
  {
   "cell_type": "code",
   "execution_count": 9,
   "metadata": {
    "collapsed": false
   },
   "outputs": [],
   "source": [
    "#print(soup.prettify())"
   ]
  },
  {
   "cell_type": "code",
   "execution_count": 94,
   "metadata": {
    "collapsed": false
   },
   "outputs": [
    {
     "name": "stdout",
     "output_type": "stream",
     "text": [
      "<xml.etree.ElementTree.ElementTree object at 0x000000000C796400>\n"
     ]
    }
   ],
   "source": [
    "from xml.etree import ElementTree\n",
    "\n",
    "with open('all7.xml', 'rt') as f:\n",
    "    tree = ElementTree.parse(f)\n",
    "\n",
    "print tree"
   ]
  },
  {
   "cell_type": "code",
   "execution_count": 95,
   "metadata": {
    "collapsed": false
   },
   "outputs": [],
   "source": [
    "root=tree.getroot()"
   ]
  },
  {
   "cell_type": "code",
   "execution_count": 96,
   "metadata": {
    "collapsed": false
   },
   "outputs": [
    {
     "data": {
      "text/plain": [
       "('{http://www.w3.org/1999/02/22-rdf-syntax-ns#}RDF', {})"
      ]
     },
     "execution_count": 96,
     "metadata": {},
     "output_type": "execute_result"
    }
   ],
   "source": [
    "root.tag, root.attrib"
   ]
  },
  {
   "cell_type": "code",
   "execution_count": 97,
   "metadata": {
    "collapsed": false
   },
   "outputs": [],
   "source": [
    "html=[]\n",
    "for child_of_root in root:\n",
    "    dictionary=child_of_root.attrib\n",
    "    html.append(dictionary.values())"
   ]
  },
  {
   "cell_type": "code",
   "execution_count": 98,
   "metadata": {
    "collapsed": false
   },
   "outputs": [
    {
     "data": {
      "text/plain": [
       "list"
      ]
     },
     "execution_count": 98,
     "metadata": {},
     "output_type": "execute_result"
    }
   ],
   "source": [
    "type(html[1])"
   ]
  },
  {
   "cell_type": "code",
   "execution_count": 99,
   "metadata": {
    "collapsed": true
   },
   "outputs": [],
   "source": [
    "import itertools\n",
    "merged = list(itertools.chain(*html))"
   ]
  },
  {
   "cell_type": "code",
   "execution_count": 100,
   "metadata": {
    "collapsed": false
   },
   "outputs": [
    {
     "data": {
      "text/plain": [
       "'http://sfbay.craigslist.org/sfc/mis/5034528545.html'"
      ]
     },
     "execution_count": 100,
     "metadata": {},
     "output_type": "execute_result"
    }
   ],
   "source": [
    "merged[1]"
   ]
  },
  {
   "cell_type": "code",
   "execution_count": 101,
   "metadata": {
    "collapsed": false
   },
   "outputs": [],
   "source": [
    "from lxml import html\n",
    "import requests\n",
    "\n",
    "page = requests.get(merged[1])\n",
    "tree = html.fromstring(page.text)"
   ]
  },
  {
   "cell_type": "code",
   "execution_count": 102,
   "metadata": {
    "collapsed": false
   },
   "outputs": [],
   "source": [
    "titles=pd.read_csv('titles2.csv')\n",
    "body=pd.read_csv('body2.csv')\n"
   ]
  },
  {
   "cell_type": "code",
   "execution_count": 103,
   "metadata": {
    "collapsed": true
   },
   "outputs": [],
   "source": [
    "titles=titles['0'].tolist()\n",
    "body=body['0'].tolist()"
   ]
  },
  {
   "cell_type": "code",
   "execution_count": 104,
   "metadata": {
    "collapsed": false
   },
   "outputs": [],
   "source": [
    "\n",
    "for i in range(len(merged)):\n",
    "    from bs4 import BeautifulSoup\n",
    "    import urllib2\n",
    "\n",
    "    redditFile = urllib2.urlopen(merged[i])\n",
    "    redditHtml = redditFile.read()\n",
    "    redditFile.close()\n",
    "\n",
    "    soup = BeautifulSoup(redditHtml)\n",
    "    titles.append(soup.title.string)\n",
    "    body.append(soup.html.select(\"#postingbody\"))\n",
    "    \n",
    "    "
   ]
  },
  {
   "cell_type": "code",
   "execution_count": 106,
   "metadata": {
    "collapsed": false
   },
   "outputs": [],
   "source": [
    "body=pd.DataFrame(body)\n",
    "body.to_csv('body2.csv')"
   ]
  },
  {
   "cell_type": "code",
   "execution_count": 107,
   "metadata": {
    "collapsed": false
   },
   "outputs": [],
   "source": [
    "titles=pd.DataFrame(titles)\n",
    "titles.to_csv('titles2.csv')"
   ]
  }
 ],
 "metadata": {
  "kernelspec": {
   "display_name": "Python 2",
   "language": "python",
   "name": "python2"
  },
  "language_info": {
   "codemirror_mode": {
    "name": "ipython",
    "version": 2
   },
   "file_extension": ".py",
   "mimetype": "text/x-python",
   "name": "python",
   "nbconvert_exporter": "python",
   "pygments_lexer": "ipython2",
   "version": "2.7.9"
  }
 },
 "nbformat": 4,
 "nbformat_minor": 0
}
